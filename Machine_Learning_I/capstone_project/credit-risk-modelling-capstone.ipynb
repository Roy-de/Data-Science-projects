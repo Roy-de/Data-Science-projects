{
 "cells": [
  {
   "cell_type": "markdown",
   "id": "bea8f50b5708ba39",
   "metadata": {
    "collapsed": false
   },
   "source": [
    "## CREDIT RISK MODELLING CAPSTONE\n",
    "For this project, I will be classifying whether a person is a defaulter or not.\n",
    "Based on the csv that I have, I have a total of 139 features that includes age, occupation etc.\n",
    "Let's begin"
   ]
  },
  {
   "cell_type": "code",
   "execution_count": 1,
   "id": "65bcb99975647264",
   "metadata": {
    "ExecuteTime": {
     "end_time": "2023-09-15T13:36:51.307762532Z",
     "start_time": "2023-09-15T13:36:50.027407800Z"
    },
    "collapsed": false
   },
   "outputs": [],
   "source": [
    "#Import the necessary libraries\n",
    "import pandas as pd"
   ]
  },
  {
   "cell_type": "code",
   "execution_count": 2,
   "id": "2027fd8f2496e898",
   "metadata": {
    "ExecuteTime": {
     "end_time": "2023-09-15T13:36:53.643717783Z",
     "start_time": "2023-09-15T13:36:50.032256774Z"
    },
    "collapsed": false
   },
   "outputs": [],
   "source": [
    "data = pd.read_csv(\"TRAIN_DATA_AGRIC.csv\")"
   ]
  },
  {
   "cell_type": "code",
   "execution_count": 3,
   "id": "f1a1e1d1038522cf",
   "metadata": {
    "ExecuteTime": {
     "end_time": "2023-09-15T13:36:53.645668569Z",
     "start_time": "2023-09-15T13:36:51.655689436Z"
    },
    "collapsed": false
   },
   "outputs": [
    {
     "data": {
      "text/html": [
       "<div>\n",
       "<style scoped>\n",
       "    .dataframe tbody tr th:only-of-type {\n",
       "        vertical-align: middle;\n",
       "    }\n",
       "\n",
       "    .dataframe tbody tr th {\n",
       "        vertical-align: top;\n",
       "    }\n",
       "\n",
       "    .dataframe thead th {\n",
       "        text-align: right;\n",
       "    }\n",
       "</style>\n",
       "<table border=\"1\" class=\"dataframe\">\n",
       "  <thead>\n",
       "    <tr style=\"text-align: right;\">\n",
       "      <th></th>\n",
       "      <th>CIF_ID</th>\n",
       "      <th>ACCT_OPN_DATE</th>\n",
       "      <th>FORACID</th>\n",
       "      <th>MAX_DPD_BEFORE</th>\n",
       "      <th>NUMBER_OF_MONTHS_SINCE_OPEN</th>\n",
       "      <th>AGE</th>\n",
       "      <th>OCCUPATION</th>\n",
       "      <th>NUMBER_OF_MONTHS_ACTIVE_3Y_C</th>\n",
       "      <th>NUMBER_OF_MONTHS_ACTIVE_3Y_D</th>\n",
       "      <th>TRAN_AMT_25_PERCENTILE_3Y_C</th>\n",
       "      <th>...</th>\n",
       "      <th>FREQUENCY_1Y_max_i500kabove</th>\n",
       "      <th>MODE_BALANCE_BIN_1Y</th>\n",
       "      <th>PERC_CHANGE_AMT_2Y</th>\n",
       "      <th>REMITTANCE_MONTHS_0_12</th>\n",
       "      <th>REMITTANCE_MONTHS_13_24</th>\n",
       "      <th>REMITTANCE_MONTHS_25_36</th>\n",
       "      <th>RISK</th>\n",
       "      <th>optimal_predicted</th>\n",
       "      <th>probability_of_default</th>\n",
       "      <th>PREDICTED_SCORE</th>\n",
       "    </tr>\n",
       "  </thead>\n",
       "  <tbody>\n",
       "    <tr>\n",
       "      <th>0</th>\n",
       "      <td>54303364670</td>\n",
       "      <td>2018-06-19</td>\n",
       "      <td>490577365253</td>\n",
       "      <td>14</td>\n",
       "      <td>116</td>\n",
       "      <td>55</td>\n",
       "      <td>OTH</td>\n",
       "      <td>36.0</td>\n",
       "      <td>36.0</td>\n",
       "      <td>19583.975</td>\n",
       "      <td>...</td>\n",
       "      <td>0.0</td>\n",
       "      <td>b0_1k</td>\n",
       "      <td>19.250294</td>\n",
       "      <td>12.0</td>\n",
       "      <td>12.0</td>\n",
       "      <td>12.0</td>\n",
       "      <td>0</td>\n",
       "      <td>0</td>\n",
       "      <td>0.122189</td>\n",
       "      <td>877.810901</td>\n",
       "    </tr>\n",
       "    <tr>\n",
       "      <th>1</th>\n",
       "      <td>54306108160</td>\n",
       "      <td>2018-06-19</td>\n",
       "      <td>920577362343</td>\n",
       "      <td>0</td>\n",
       "      <td>82</td>\n",
       "      <td>31</td>\n",
       "      <td>FARM</td>\n",
       "      <td>36.0</td>\n",
       "      <td>36.0</td>\n",
       "      <td>14713.975</td>\n",
       "      <td>...</td>\n",
       "      <td>0.0</td>\n",
       "      <td>b0_1k</td>\n",
       "      <td>-34.100255</td>\n",
       "      <td>12.0</td>\n",
       "      <td>12.0</td>\n",
       "      <td>12.0</td>\n",
       "      <td>0</td>\n",
       "      <td>0</td>\n",
       "      <td>0.206867</td>\n",
       "      <td>793.133253</td>\n",
       "    </tr>\n",
       "    <tr>\n",
       "      <th>2</th>\n",
       "      <td>54303951682</td>\n",
       "      <td>2018-06-14</td>\n",
       "      <td>490577353321</td>\n",
       "      <td>0</td>\n",
       "      <td>110</td>\n",
       "      <td>41</td>\n",
       "      <td>FARM</td>\n",
       "      <td>23.0</td>\n",
       "      <td>23.0</td>\n",
       "      <td>0.000</td>\n",
       "      <td>...</td>\n",
       "      <td>1.0</td>\n",
       "      <td>h100k_500k</td>\n",
       "      <td>5.963037</td>\n",
       "      <td>12.0</td>\n",
       "      <td>10.0</td>\n",
       "      <td>1.0</td>\n",
       "      <td>0</td>\n",
       "      <td>0</td>\n",
       "      <td>0.160443</td>\n",
       "      <td>839.556732</td>\n",
       "    </tr>\n",
       "    <tr>\n",
       "      <th>3</th>\n",
       "      <td>54300356513</td>\n",
       "      <td>2018-06-11</td>\n",
       "      <td>1090577340800</td>\n",
       "      <td>0</td>\n",
       "      <td>141</td>\n",
       "      <td>71</td>\n",
       "      <td>OTH</td>\n",
       "      <td>35.0</td>\n",
       "      <td>36.0</td>\n",
       "      <td>5286.875</td>\n",
       "      <td>...</td>\n",
       "      <td>0.0</td>\n",
       "      <td>b0_1k</td>\n",
       "      <td>-40.073165</td>\n",
       "      <td>12.0</td>\n",
       "      <td>12.0</td>\n",
       "      <td>11.0</td>\n",
       "      <td>0</td>\n",
       "      <td>0</td>\n",
       "      <td>0.133427</td>\n",
       "      <td>866.572602</td>\n",
       "    </tr>\n",
       "    <tr>\n",
       "      <th>4</th>\n",
       "      <td>54305312299</td>\n",
       "      <td>2018-06-21</td>\n",
       "      <td>490577372574</td>\n",
       "      <td>28</td>\n",
       "      <td>93</td>\n",
       "      <td>31</td>\n",
       "      <td>FARM</td>\n",
       "      <td>29.0</td>\n",
       "      <td>30.0</td>\n",
       "      <td>2589.500</td>\n",
       "      <td>...</td>\n",
       "      <td>0.0</td>\n",
       "      <td>b0_1k</td>\n",
       "      <td>-49.037705</td>\n",
       "      <td>12.0</td>\n",
       "      <td>11.0</td>\n",
       "      <td>6.0</td>\n",
       "      <td>1</td>\n",
       "      <td>1</td>\n",
       "      <td>0.638689</td>\n",
       "      <td>361.310534</td>\n",
       "    </tr>\n",
       "    <tr>\n",
       "      <th>...</th>\n",
       "      <td>...</td>\n",
       "      <td>...</td>\n",
       "      <td>...</td>\n",
       "      <td>...</td>\n",
       "      <td>...</td>\n",
       "      <td>...</td>\n",
       "      <td>...</td>\n",
       "      <td>...</td>\n",
       "      <td>...</td>\n",
       "      <td>...</td>\n",
       "      <td>...</td>\n",
       "      <td>...</td>\n",
       "      <td>...</td>\n",
       "      <td>...</td>\n",
       "      <td>...</td>\n",
       "      <td>...</td>\n",
       "      <td>...</td>\n",
       "      <td>...</td>\n",
       "      <td>...</td>\n",
       "      <td>...</td>\n",
       "      <td>...</td>\n",
       "    </tr>\n",
       "    <tr>\n",
       "      <th>14928</th>\n",
       "      <td>54307210797</td>\n",
       "      <td>2018-12-15</td>\n",
       "      <td>510578262153</td>\n",
       "      <td>11</td>\n",
       "      <td>80</td>\n",
       "      <td>54</td>\n",
       "      <td>FARM</td>\n",
       "      <td>33.0</td>\n",
       "      <td>35.0</td>\n",
       "      <td>863.563</td>\n",
       "      <td>...</td>\n",
       "      <td>0.0</td>\n",
       "      <td>b0_1k</td>\n",
       "      <td>6.380175</td>\n",
       "      <td>12.0</td>\n",
       "      <td>9.0</td>\n",
       "      <td>12.0</td>\n",
       "      <td>0</td>\n",
       "      <td>0</td>\n",
       "      <td>0.321194</td>\n",
       "      <td>678.806022</td>\n",
       "    </tr>\n",
       "    <tr>\n",
       "      <th>14929</th>\n",
       "      <td>54306725029</td>\n",
       "      <td>2018-12-17</td>\n",
       "      <td>530578349217</td>\n",
       "      <td>0</td>\n",
       "      <td>85</td>\n",
       "      <td>29</td>\n",
       "      <td>FARM</td>\n",
       "      <td>36.0</td>\n",
       "      <td>36.0</td>\n",
       "      <td>29346.212</td>\n",
       "      <td>...</td>\n",
       "      <td>7.0</td>\n",
       "      <td>b0_1k</td>\n",
       "      <td>-12.411933</td>\n",
       "      <td>12.0</td>\n",
       "      <td>12.0</td>\n",
       "      <td>12.0</td>\n",
       "      <td>0</td>\n",
       "      <td>0</td>\n",
       "      <td>0.093885</td>\n",
       "      <td>906.115410</td>\n",
       "    </tr>\n",
       "    <tr>\n",
       "      <th>14930</th>\n",
       "      <td>54308363457</td>\n",
       "      <td>2018-12-24</td>\n",
       "      <td>190578463167</td>\n",
       "      <td>0</td>\n",
       "      <td>60</td>\n",
       "      <td>41</td>\n",
       "      <td>OTH</td>\n",
       "      <td>36.0</td>\n",
       "      <td>36.0</td>\n",
       "      <td>1270.688</td>\n",
       "      <td>...</td>\n",
       "      <td>0.0</td>\n",
       "      <td>b0_1k</td>\n",
       "      <td>-0.399648</td>\n",
       "      <td>12.0</td>\n",
       "      <td>12.0</td>\n",
       "      <td>12.0</td>\n",
       "      <td>0</td>\n",
       "      <td>0</td>\n",
       "      <td>0.131587</td>\n",
       "      <td>868.412594</td>\n",
       "    </tr>\n",
       "    <tr>\n",
       "      <th>14931</th>\n",
       "      <td>54200425672</td>\n",
       "      <td>2018-12-14</td>\n",
       "      <td>70578259827</td>\n",
       "      <td>0</td>\n",
       "      <td>158</td>\n",
       "      <td>72</td>\n",
       "      <td>OTHER</td>\n",
       "      <td>36.0</td>\n",
       "      <td>36.0</td>\n",
       "      <td>1737.450</td>\n",
       "      <td>...</td>\n",
       "      <td>0.0</td>\n",
       "      <td>b0_1k</td>\n",
       "      <td>-6.876600</td>\n",
       "      <td>12.0</td>\n",
       "      <td>12.0</td>\n",
       "      <td>12.0</td>\n",
       "      <td>0</td>\n",
       "      <td>0</td>\n",
       "      <td>0.158602</td>\n",
       "      <td>841.397858</td>\n",
       "    </tr>\n",
       "    <tr>\n",
       "      <th>14932</th>\n",
       "      <td>54303784270</td>\n",
       "      <td>2018-12-21</td>\n",
       "      <td>100578457017</td>\n",
       "      <td>21</td>\n",
       "      <td>118</td>\n",
       "      <td>42</td>\n",
       "      <td>FARM</td>\n",
       "      <td>33.0</td>\n",
       "      <td>33.0</td>\n",
       "      <td>1247.338</td>\n",
       "      <td>...</td>\n",
       "      <td>0.0</td>\n",
       "      <td>b0_1k</td>\n",
       "      <td>29.705656</td>\n",
       "      <td>12.0</td>\n",
       "      <td>9.0</td>\n",
       "      <td>12.0</td>\n",
       "      <td>0</td>\n",
       "      <td>1</td>\n",
       "      <td>0.348275</td>\n",
       "      <td>651.725374</td>\n",
       "    </tr>\n",
       "  </tbody>\n",
       "</table>\n",
       "<p>14933 rows × 139 columns</p>\n",
       "</div>"
      ],
      "text/plain": [
       "            CIF_ID ACCT_OPN_DATE        FORACID  MAX_DPD_BEFORE  \\\n",
       "0      54303364670    2018-06-19   490577365253              14   \n",
       "1      54306108160    2018-06-19   920577362343               0   \n",
       "2      54303951682    2018-06-14   490577353321               0   \n",
       "3      54300356513    2018-06-11  1090577340800               0   \n",
       "4      54305312299    2018-06-21   490577372574              28   \n",
       "...            ...           ...            ...             ...   \n",
       "14928  54307210797    2018-12-15   510578262153              11   \n",
       "14929  54306725029    2018-12-17   530578349217               0   \n",
       "14930  54308363457    2018-12-24   190578463167               0   \n",
       "14931  54200425672    2018-12-14    70578259827               0   \n",
       "14932  54303784270    2018-12-21   100578457017              21   \n",
       "\n",
       "       NUMBER_OF_MONTHS_SINCE_OPEN  AGE OCCUPATION  \\\n",
       "0                              116   55        OTH   \n",
       "1                               82   31       FARM   \n",
       "2                              110   41       FARM   \n",
       "3                              141   71        OTH   \n",
       "4                               93   31       FARM   \n",
       "...                            ...  ...        ...   \n",
       "14928                           80   54       FARM   \n",
       "14929                           85   29       FARM   \n",
       "14930                           60   41        OTH   \n",
       "14931                          158   72      OTHER   \n",
       "14932                          118   42       FARM   \n",
       "\n",
       "       NUMBER_OF_MONTHS_ACTIVE_3Y_C  NUMBER_OF_MONTHS_ACTIVE_3Y_D  \\\n",
       "0                              36.0                          36.0   \n",
       "1                              36.0                          36.0   \n",
       "2                              23.0                          23.0   \n",
       "3                              35.0                          36.0   \n",
       "4                              29.0                          30.0   \n",
       "...                             ...                           ...   \n",
       "14928                          33.0                          35.0   \n",
       "14929                          36.0                          36.0   \n",
       "14930                          36.0                          36.0   \n",
       "14931                          36.0                          36.0   \n",
       "14932                          33.0                          33.0   \n",
       "\n",
       "       TRAN_AMT_25_PERCENTILE_3Y_C  ...  FREQUENCY_1Y_max_i500kabove  \\\n",
       "0                        19583.975  ...                          0.0   \n",
       "1                        14713.975  ...                          0.0   \n",
       "2                            0.000  ...                          1.0   \n",
       "3                         5286.875  ...                          0.0   \n",
       "4                         2589.500  ...                          0.0   \n",
       "...                            ...  ...                          ...   \n",
       "14928                      863.563  ...                          0.0   \n",
       "14929                    29346.212  ...                          7.0   \n",
       "14930                     1270.688  ...                          0.0   \n",
       "14931                     1737.450  ...                          0.0   \n",
       "14932                     1247.338  ...                          0.0   \n",
       "\n",
       "       MODE_BALANCE_BIN_1Y  PERC_CHANGE_AMT_2Y  REMITTANCE_MONTHS_0_12  \\\n",
       "0                    b0_1k           19.250294                    12.0   \n",
       "1                    b0_1k          -34.100255                    12.0   \n",
       "2               h100k_500k            5.963037                    12.0   \n",
       "3                    b0_1k          -40.073165                    12.0   \n",
       "4                    b0_1k          -49.037705                    12.0   \n",
       "...                    ...                 ...                     ...   \n",
       "14928                b0_1k            6.380175                    12.0   \n",
       "14929                b0_1k          -12.411933                    12.0   \n",
       "14930                b0_1k           -0.399648                    12.0   \n",
       "14931                b0_1k           -6.876600                    12.0   \n",
       "14932                b0_1k           29.705656                    12.0   \n",
       "\n",
       "       REMITTANCE_MONTHS_13_24  REMITTANCE_MONTHS_25_36  RISK  \\\n",
       "0                         12.0                     12.0     0   \n",
       "1                         12.0                     12.0     0   \n",
       "2                         10.0                      1.0     0   \n",
       "3                         12.0                     11.0     0   \n",
       "4                         11.0                      6.0     1   \n",
       "...                        ...                      ...   ...   \n",
       "14928                      9.0                     12.0     0   \n",
       "14929                     12.0                     12.0     0   \n",
       "14930                     12.0                     12.0     0   \n",
       "14931                     12.0                     12.0     0   \n",
       "14932                      9.0                     12.0     0   \n",
       "\n",
       "       optimal_predicted  probability_of_default  PREDICTED_SCORE  \n",
       "0                      0                0.122189       877.810901  \n",
       "1                      0                0.206867       793.133253  \n",
       "2                      0                0.160443       839.556732  \n",
       "3                      0                0.133427       866.572602  \n",
       "4                      1                0.638689       361.310534  \n",
       "...                  ...                     ...              ...  \n",
       "14928                  0                0.321194       678.806022  \n",
       "14929                  0                0.093885       906.115410  \n",
       "14930                  0                0.131587       868.412594  \n",
       "14931                  0                0.158602       841.397858  \n",
       "14932                  1                0.348275       651.725374  \n",
       "\n",
       "[14933 rows x 139 columns]"
      ]
     },
     "execution_count": 3,
     "metadata": {},
     "output_type": "execute_result"
    }
   ],
   "source": [
    "data"
   ]
  },
  {
   "cell_type": "code",
   "execution_count": 4,
   "id": "1df2c2b5502b090a",
   "metadata": {
    "ExecuteTime": {
     "end_time": "2023-09-15T13:36:53.646307832Z",
     "start_time": "2023-09-15T13:36:51.656067297Z"
    },
    "collapsed": false
   },
   "outputs": [
    {
     "name": "stdout",
     "output_type": "stream",
     "text": [
      "<class 'pandas.core.frame.DataFrame'>\n",
      "RangeIndex: 14933 entries, 0 to 14932\n",
      "Columns: 139 entries, CIF_ID to PREDICTED_SCORE\n",
      "dtypes: float64(125), int64(8), object(6)\n",
      "memory usage: 15.8+ MB\n"
     ]
    }
   ],
   "source": [
    "data.info()"
   ]
  },
  {
   "cell_type": "markdown",
   "id": "eff38574bef5935",
   "metadata": {
    "collapsed": false
   },
   "source": [
    "The above data has 139 features. 133 numerical features and 6 categorical features.\n",
    "What we will do after this is describe the data statistically|"
   ]
  },
  {
   "cell_type": "code",
   "execution_count": 5,
   "id": "4cffa7b4c18ef5d6",
   "metadata": {
    "ExecuteTime": {
     "end_time": "2023-09-15T13:36:53.648633021Z",
     "start_time": "2023-09-15T13:36:51.656210478Z"
    },
    "collapsed": false
   },
   "outputs": [
    {
     "data": {
      "text/html": [
       "<div>\n",
       "<style scoped>\n",
       "    .dataframe tbody tr th:only-of-type {\n",
       "        vertical-align: middle;\n",
       "    }\n",
       "\n",
       "    .dataframe tbody tr th {\n",
       "        vertical-align: top;\n",
       "    }\n",
       "\n",
       "    .dataframe thead th {\n",
       "        text-align: right;\n",
       "    }\n",
       "</style>\n",
       "<table border=\"1\" class=\"dataframe\">\n",
       "  <thead>\n",
       "    <tr style=\"text-align: right;\">\n",
       "      <th></th>\n",
       "      <th>CIF_ID</th>\n",
       "      <th>FORACID</th>\n",
       "      <th>MAX_DPD_BEFORE</th>\n",
       "      <th>NUMBER_OF_MONTHS_SINCE_OPEN</th>\n",
       "      <th>AGE</th>\n",
       "      <th>NUMBER_OF_MONTHS_ACTIVE_3Y_C</th>\n",
       "      <th>NUMBER_OF_MONTHS_ACTIVE_3Y_D</th>\n",
       "      <th>TRAN_AMT_25_PERCENTILE_3Y_C</th>\n",
       "      <th>TRAN_AMT_25_PERCENTILE_3Y_D</th>\n",
       "      <th>TRAN_AMT_3Y_C</th>\n",
       "      <th>...</th>\n",
       "      <th>FREQUENCY_1Y_max_h100k_500k</th>\n",
       "      <th>FREQUENCY_1Y_max_i500kabove</th>\n",
       "      <th>PERC_CHANGE_AMT_2Y</th>\n",
       "      <th>REMITTANCE_MONTHS_0_12</th>\n",
       "      <th>REMITTANCE_MONTHS_13_24</th>\n",
       "      <th>REMITTANCE_MONTHS_25_36</th>\n",
       "      <th>RISK</th>\n",
       "      <th>optimal_predicted</th>\n",
       "      <th>probability_of_default</th>\n",
       "      <th>PREDICTED_SCORE</th>\n",
       "    </tr>\n",
       "  </thead>\n",
       "  <tbody>\n",
       "    <tr>\n",
       "      <th>count</th>\n",
       "      <td>14933.0</td>\n",
       "      <td>14933.0</td>\n",
       "      <td>14933.0</td>\n",
       "      <td>14933.0</td>\n",
       "      <td>14933.0</td>\n",
       "      <td>14933.0</td>\n",
       "      <td>14933.0</td>\n",
       "      <td>14933.0</td>\n",
       "      <td>14933.0</td>\n",
       "      <td>14933.0</td>\n",
       "      <td>...</td>\n",
       "      <td>14933.0</td>\n",
       "      <td>14933.0</td>\n",
       "      <td>14933.0</td>\n",
       "      <td>14933.0</td>\n",
       "      <td>14933.0</td>\n",
       "      <td>14933.0</td>\n",
       "      <td>14933.0</td>\n",
       "      <td>14933.0</td>\n",
       "      <td>14933.0</td>\n",
       "      <td>14933.0</td>\n",
       "    </tr>\n",
       "    <tr>\n",
       "      <th>mean</th>\n",
       "      <td>54281341764.5</td>\n",
       "      <td>366578013043.8</td>\n",
       "      <td>19.7</td>\n",
       "      <td>118.3</td>\n",
       "      <td>47.5</td>\n",
       "      <td>33.0</td>\n",
       "      <td>33.6</td>\n",
       "      <td>4434.3</td>\n",
       "      <td>3997.2</td>\n",
       "      <td>714054.8</td>\n",
       "      <td>...</td>\n",
       "      <td>3.1</td>\n",
       "      <td>0.3</td>\n",
       "      <td>82.6</td>\n",
       "      <td>11.5</td>\n",
       "      <td>11.0</td>\n",
       "      <td>10.5</td>\n",
       "      <td>0.3</td>\n",
       "      <td>0.4</td>\n",
       "      <td>0.3</td>\n",
       "      <td>686.3</td>\n",
       "    </tr>\n",
       "    <tr>\n",
       "      <th>std</th>\n",
       "      <td>43020626.5</td>\n",
       "      <td>366485690887.4</td>\n",
       "      <td>51.3</td>\n",
       "      <td>36.3</td>\n",
       "      <td>12.7</td>\n",
       "      <td>6.1</td>\n",
       "      <td>5.8</td>\n",
       "      <td>34020.7</td>\n",
       "      <td>30315.3</td>\n",
       "      <td>2369958.9</td>\n",
       "      <td>...</td>\n",
       "      <td>8.0</td>\n",
       "      <td>2.7</td>\n",
       "      <td>867.3</td>\n",
       "      <td>1.4</td>\n",
       "      <td>2.5</td>\n",
       "      <td>3.3</td>\n",
       "      <td>0.5</td>\n",
       "      <td>0.5</td>\n",
       "      <td>0.2</td>\n",
       "      <td>209.8</td>\n",
       "    </tr>\n",
       "    <tr>\n",
       "      <th>min</th>\n",
       "      <td>54200006812.0</td>\n",
       "      <td>20577778434.0</td>\n",
       "      <td>0.0</td>\n",
       "      <td>3.0</td>\n",
       "      <td>19.0</td>\n",
       "      <td>0.0</td>\n",
       "      <td>0.0</td>\n",
       "      <td>0.0</td>\n",
       "      <td>0.0</td>\n",
       "      <td>0.0</td>\n",
       "      <td>...</td>\n",
       "      <td>0.0</td>\n",
       "      <td>0.0</td>\n",
       "      <td>-98.2</td>\n",
       "      <td>0.0</td>\n",
       "      <td>0.0</td>\n",
       "      <td>0.0</td>\n",
       "      <td>0.0</td>\n",
       "      <td>0.0</td>\n",
       "      <td>0.0</td>\n",
       "      <td>104.1</td>\n",
       "    </tr>\n",
       "    <tr>\n",
       "      <th>25%</th>\n",
       "      <td>54300153952.0</td>\n",
       "      <td>70578048147.0</td>\n",
       "      <td>0.0</td>\n",
       "      <td>94.0</td>\n",
       "      <td>38.0</td>\n",
       "      <td>33.0</td>\n",
       "      <td>35.0</td>\n",
       "      <td>688.8</td>\n",
       "      <td>110.8</td>\n",
       "      <td>186427.4</td>\n",
       "      <td>...</td>\n",
       "      <td>0.0</td>\n",
       "      <td>0.0</td>\n",
       "      <td>-20.9</td>\n",
       "      <td>12.0</td>\n",
       "      <td>11.0</td>\n",
       "      <td>11.0</td>\n",
       "      <td>0.0</td>\n",
       "      <td>0.0</td>\n",
       "      <td>0.1</td>\n",
       "      <td>532.6</td>\n",
       "    </tr>\n",
       "    <tr>\n",
       "      <th>50%</th>\n",
       "      <td>54302689684.0</td>\n",
       "      <td>210577795654.0</td>\n",
       "      <td>11.0</td>\n",
       "      <td>127.0</td>\n",
       "      <td>46.0</td>\n",
       "      <td>36.0</td>\n",
       "      <td>36.0</td>\n",
       "      <td>1545.3</td>\n",
       "      <td>793.8</td>\n",
       "      <td>353335.7</td>\n",
       "      <td>...</td>\n",
       "      <td>0.0</td>\n",
       "      <td>0.0</td>\n",
       "      <td>4.2</td>\n",
       "      <td>12.0</td>\n",
       "      <td>12.0</td>\n",
       "      <td>12.0</td>\n",
       "      <td>0.0</td>\n",
       "      <td>0.0</td>\n",
       "      <td>0.3</td>\n",
       "      <td>726.0</td>\n",
       "    </tr>\n",
       "    <tr>\n",
       "      <th>75%</th>\n",
       "      <td>54305562285.0</td>\n",
       "      <td>520578149266.0</td>\n",
       "      <td>15.0</td>\n",
       "      <td>151.0</td>\n",
       "      <td>57.0</td>\n",
       "      <td>36.0</td>\n",
       "      <td>36.0</td>\n",
       "      <td>3464.4</td>\n",
       "      <td>2645.2</td>\n",
       "      <td>685333.7</td>\n",
       "      <td>...</td>\n",
       "      <td>0.0</td>\n",
       "      <td>0.0</td>\n",
       "      <td>39.3</td>\n",
       "      <td>12.0</td>\n",
       "      <td>12.0</td>\n",
       "      <td>12.0</td>\n",
       "      <td>1.0</td>\n",
       "      <td>1.0</td>\n",
       "      <td>0.5</td>\n",
       "      <td>864.9</td>\n",
       "    </tr>\n",
       "    <tr>\n",
       "      <th>max</th>\n",
       "      <td>54312668548.0</td>\n",
       "      <td>1790577835500.0</td>\n",
       "      <td>1750.0</td>\n",
       "      <td>158.0</td>\n",
       "      <td>100.0</td>\n",
       "      <td>36.0</td>\n",
       "      <td>36.0</td>\n",
       "      <td>3571365.7</td>\n",
       "      <td>2874994.6</td>\n",
       "      <td>180014404.7</td>\n",
       "      <td>...</td>\n",
       "      <td>31.0</td>\n",
       "      <td>31.0</td>\n",
       "      <td>58595.5</td>\n",
       "      <td>12.0</td>\n",
       "      <td>12.0</td>\n",
       "      <td>12.0</td>\n",
       "      <td>1.0</td>\n",
       "      <td>1.0</td>\n",
       "      <td>0.9</td>\n",
       "      <td>992.8</td>\n",
       "    </tr>\n",
       "  </tbody>\n",
       "</table>\n",
       "<p>8 rows × 133 columns</p>\n",
       "</div>"
      ],
      "text/plain": [
       "             CIF_ID         FORACID  MAX_DPD_BEFORE  \\\n",
       "count       14933.0         14933.0         14933.0   \n",
       "mean  54281341764.5  366578013043.8            19.7   \n",
       "std      43020626.5  366485690887.4            51.3   \n",
       "min   54200006812.0   20577778434.0             0.0   \n",
       "25%   54300153952.0   70578048147.0             0.0   \n",
       "50%   54302689684.0  210577795654.0            11.0   \n",
       "75%   54305562285.0  520578149266.0            15.0   \n",
       "max   54312668548.0 1790577835500.0          1750.0   \n",
       "\n",
       "       NUMBER_OF_MONTHS_SINCE_OPEN     AGE  NUMBER_OF_MONTHS_ACTIVE_3Y_C  \\\n",
       "count                      14933.0 14933.0                       14933.0   \n",
       "mean                         118.3    47.5                          33.0   \n",
       "std                           36.3    12.7                           6.1   \n",
       "min                            3.0    19.0                           0.0   \n",
       "25%                           94.0    38.0                          33.0   \n",
       "50%                          127.0    46.0                          36.0   \n",
       "75%                          151.0    57.0                          36.0   \n",
       "max                          158.0   100.0                          36.0   \n",
       "\n",
       "       NUMBER_OF_MONTHS_ACTIVE_3Y_D  TRAN_AMT_25_PERCENTILE_3Y_C  \\\n",
       "count                       14933.0                      14933.0   \n",
       "mean                           33.6                       4434.3   \n",
       "std                             5.8                      34020.7   \n",
       "min                             0.0                          0.0   \n",
       "25%                            35.0                        688.8   \n",
       "50%                            36.0                       1545.3   \n",
       "75%                            36.0                       3464.4   \n",
       "max                            36.0                    3571365.7   \n",
       "\n",
       "       TRAN_AMT_25_PERCENTILE_3Y_D  TRAN_AMT_3Y_C  ...  \\\n",
       "count                      14933.0        14933.0  ...   \n",
       "mean                        3997.2       714054.8  ...   \n",
       "std                        30315.3      2369958.9  ...   \n",
       "min                            0.0            0.0  ...   \n",
       "25%                          110.8       186427.4  ...   \n",
       "50%                          793.8       353335.7  ...   \n",
       "75%                         2645.2       685333.7  ...   \n",
       "max                      2874994.6    180014404.7  ...   \n",
       "\n",
       "       FREQUENCY_1Y_max_h100k_500k  FREQUENCY_1Y_max_i500kabove  \\\n",
       "count                      14933.0                      14933.0   \n",
       "mean                           3.1                          0.3   \n",
       "std                            8.0                          2.7   \n",
       "min                            0.0                          0.0   \n",
       "25%                            0.0                          0.0   \n",
       "50%                            0.0                          0.0   \n",
       "75%                            0.0                          0.0   \n",
       "max                           31.0                         31.0   \n",
       "\n",
       "       PERC_CHANGE_AMT_2Y  REMITTANCE_MONTHS_0_12  REMITTANCE_MONTHS_13_24  \\\n",
       "count             14933.0                 14933.0                  14933.0   \n",
       "mean                 82.6                    11.5                     11.0   \n",
       "std                 867.3                     1.4                      2.5   \n",
       "min                 -98.2                     0.0                      0.0   \n",
       "25%                 -20.9                    12.0                     11.0   \n",
       "50%                   4.2                    12.0                     12.0   \n",
       "75%                  39.3                    12.0                     12.0   \n",
       "max               58595.5                    12.0                     12.0   \n",
       "\n",
       "       REMITTANCE_MONTHS_25_36    RISK  optimal_predicted  \\\n",
       "count                  14933.0 14933.0            14933.0   \n",
       "mean                      10.5     0.3                0.4   \n",
       "std                        3.3     0.5                0.5   \n",
       "min                        0.0     0.0                0.0   \n",
       "25%                       11.0     0.0                0.0   \n",
       "50%                       12.0     0.0                0.0   \n",
       "75%                       12.0     1.0                1.0   \n",
       "max                       12.0     1.0                1.0   \n",
       "\n",
       "       probability_of_default  PREDICTED_SCORE  \n",
       "count                 14933.0          14933.0  \n",
       "mean                      0.3            686.3  \n",
       "std                       0.2            209.8  \n",
       "min                       0.0            104.1  \n",
       "25%                       0.1            532.6  \n",
       "50%                       0.3            726.0  \n",
       "75%                       0.5            864.9  \n",
       "max                       0.9            992.8  \n",
       "\n",
       "[8 rows x 133 columns]"
      ]
     },
     "execution_count": 5,
     "metadata": {},
     "output_type": "execute_result"
    }
   ],
   "source": [
    "pd.set_option('display.float_format', '{:.1f}'.format)\n",
    "data.describe()"
   ]
  },
  {
   "cell_type": "markdown",
   "id": "aca2310e21c2eff2",
   "metadata": {
    "collapsed": false
   },
   "source": [
    "Now lets look for any missing values in the dataset"
   ]
  },
  {
   "cell_type": "code",
   "execution_count": 6,
   "id": "9d8452683efd8aa8",
   "metadata": {
    "ExecuteTime": {
     "end_time": "2023-09-15T13:36:53.651624698Z",
     "start_time": "2023-09-15T13:36:52.200633801Z"
    },
    "collapsed": false
   },
   "outputs": [
    {
     "data": {
      "text/plain": [
       "CIF_ID                         0\n",
       "ACCT_OPN_DATE                  0\n",
       "FORACID                        0\n",
       "MAX_DPD_BEFORE                 0\n",
       "NUMBER_OF_MONTHS_SINCE_OPEN    0\n",
       "                              ..\n",
       "REMITTANCE_MONTHS_25_36        0\n",
       "RISK                           0\n",
       "optimal_predicted              0\n",
       "probability_of_default         0\n",
       "PREDICTED_SCORE                0\n",
       "Length: 139, dtype: int64"
      ]
     },
     "execution_count": 6,
     "metadata": {},
     "output_type": "execute_result"
    }
   ],
   "source": [
    "data.isnull().sum()"
   ]
  },
  {
   "cell_type": "markdown",
   "id": "5034b3efd1a371d3",
   "metadata": {
    "collapsed": false
   },
   "source": [
    "As we can see, We have no null values in our dataset\n",
    "\n",
    "Lets now separate categorical from numerical data"
   ]
  },
  {
   "cell_type": "code",
   "execution_count": 7,
   "id": "2f357d70276697ec",
   "metadata": {
    "ExecuteTime": {
     "end_time": "2023-09-15T13:36:53.652113029Z",
     "start_time": "2023-09-15T13:36:52.235947529Z"
    },
    "collapsed": false
   },
   "outputs": [],
   "source": [
    "#First we need to convert datetime from object to numerical\n",
    "data['ACCT_OPN_DATE'] = pd.to_datetime(data['ACCT_OPN_DATE']).astype(int)"
   ]
  },
  {
   "cell_type": "code",
   "execution_count": 8,
   "id": "1f336c3dc240dc7f",
   "metadata": {
    "ExecuteTime": {
     "end_time": "2023-09-15T13:36:53.653201844Z",
     "start_time": "2023-09-15T13:36:52.258768546Z"
    },
    "collapsed": false
   },
   "outputs": [
    {
     "data": {
      "text/html": [
       "<div>\n",
       "<style scoped>\n",
       "    .dataframe tbody tr th:only-of-type {\n",
       "        vertical-align: middle;\n",
       "    }\n",
       "\n",
       "    .dataframe tbody tr th {\n",
       "        vertical-align: top;\n",
       "    }\n",
       "\n",
       "    .dataframe thead th {\n",
       "        text-align: right;\n",
       "    }\n",
       "</style>\n",
       "<table border=\"1\" class=\"dataframe\">\n",
       "  <thead>\n",
       "    <tr style=\"text-align: right;\">\n",
       "      <th></th>\n",
       "      <th>CIF_ID</th>\n",
       "      <th>ACCT_OPN_DATE</th>\n",
       "      <th>FORACID</th>\n",
       "      <th>MAX_DPD_BEFORE</th>\n",
       "      <th>NUMBER_OF_MONTHS_SINCE_OPEN</th>\n",
       "      <th>AGE</th>\n",
       "      <th>NUMBER_OF_MONTHS_ACTIVE_3Y_C</th>\n",
       "      <th>NUMBER_OF_MONTHS_ACTIVE_3Y_D</th>\n",
       "      <th>TRAN_AMT_25_PERCENTILE_3Y_C</th>\n",
       "      <th>TRAN_AMT_25_PERCENTILE_3Y_D</th>\n",
       "      <th>...</th>\n",
       "      <th>FREQUENCY_1Y_max_h100k_500k</th>\n",
       "      <th>FREQUENCY_1Y_max_i500kabove</th>\n",
       "      <th>PERC_CHANGE_AMT_2Y</th>\n",
       "      <th>REMITTANCE_MONTHS_0_12</th>\n",
       "      <th>REMITTANCE_MONTHS_13_24</th>\n",
       "      <th>REMITTANCE_MONTHS_25_36</th>\n",
       "      <th>RISK</th>\n",
       "      <th>optimal_predicted</th>\n",
       "      <th>probability_of_default</th>\n",
       "      <th>PREDICTED_SCORE</th>\n",
       "    </tr>\n",
       "  </thead>\n",
       "  <tbody>\n",
       "    <tr>\n",
       "      <th>0</th>\n",
       "      <td>54303364670</td>\n",
       "      <td>1529366400000000000</td>\n",
       "      <td>490577365253</td>\n",
       "      <td>14</td>\n",
       "      <td>116</td>\n",
       "      <td>55</td>\n",
       "      <td>36.0</td>\n",
       "      <td>36.0</td>\n",
       "      <td>19584.0</td>\n",
       "      <td>20362.4</td>\n",
       "      <td>...</td>\n",
       "      <td>26.0</td>\n",
       "      <td>0.0</td>\n",
       "      <td>19.3</td>\n",
       "      <td>12.0</td>\n",
       "      <td>12.0</td>\n",
       "      <td>12.0</td>\n",
       "      <td>0</td>\n",
       "      <td>0</td>\n",
       "      <td>0.1</td>\n",
       "      <td>877.8</td>\n",
       "    </tr>\n",
       "    <tr>\n",
       "      <th>1</th>\n",
       "      <td>54306108160</td>\n",
       "      <td>1529366400000000000</td>\n",
       "      <td>920577362343</td>\n",
       "      <td>0</td>\n",
       "      <td>82</td>\n",
       "      <td>31</td>\n",
       "      <td>36.0</td>\n",
       "      <td>36.0</td>\n",
       "      <td>14714.0</td>\n",
       "      <td>11121.8</td>\n",
       "      <td>...</td>\n",
       "      <td>0.0</td>\n",
       "      <td>0.0</td>\n",
       "      <td>-34.1</td>\n",
       "      <td>12.0</td>\n",
       "      <td>12.0</td>\n",
       "      <td>12.0</td>\n",
       "      <td>0</td>\n",
       "      <td>0</td>\n",
       "      <td>0.2</td>\n",
       "      <td>793.1</td>\n",
       "    </tr>\n",
       "    <tr>\n",
       "      <th>2</th>\n",
       "      <td>54303951682</td>\n",
       "      <td>1528934400000000000</td>\n",
       "      <td>490577353321</td>\n",
       "      <td>0</td>\n",
       "      <td>110</td>\n",
       "      <td>41</td>\n",
       "      <td>23.0</td>\n",
       "      <td>23.0</td>\n",
       "      <td>0.0</td>\n",
       "      <td>0.0</td>\n",
       "      <td>...</td>\n",
       "      <td>31.0</td>\n",
       "      <td>1.0</td>\n",
       "      <td>6.0</td>\n",
       "      <td>12.0</td>\n",
       "      <td>10.0</td>\n",
       "      <td>1.0</td>\n",
       "      <td>0</td>\n",
       "      <td>0</td>\n",
       "      <td>0.2</td>\n",
       "      <td>839.6</td>\n",
       "    </tr>\n",
       "    <tr>\n",
       "      <th>3</th>\n",
       "      <td>54300356513</td>\n",
       "      <td>1528675200000000000</td>\n",
       "      <td>1090577340800</td>\n",
       "      <td>0</td>\n",
       "      <td>141</td>\n",
       "      <td>71</td>\n",
       "      <td>35.0</td>\n",
       "      <td>36.0</td>\n",
       "      <td>5286.9</td>\n",
       "      <td>4920.5</td>\n",
       "      <td>...</td>\n",
       "      <td>0.0</td>\n",
       "      <td>0.0</td>\n",
       "      <td>-40.1</td>\n",
       "      <td>12.0</td>\n",
       "      <td>12.0</td>\n",
       "      <td>11.0</td>\n",
       "      <td>0</td>\n",
       "      <td>0</td>\n",
       "      <td>0.1</td>\n",
       "      <td>866.6</td>\n",
       "    </tr>\n",
       "    <tr>\n",
       "      <th>4</th>\n",
       "      <td>54305312299</td>\n",
       "      <td>1529539200000000000</td>\n",
       "      <td>490577372574</td>\n",
       "      <td>28</td>\n",
       "      <td>93</td>\n",
       "      <td>31</td>\n",
       "      <td>29.0</td>\n",
       "      <td>30.0</td>\n",
       "      <td>2589.5</td>\n",
       "      <td>150.0</td>\n",
       "      <td>...</td>\n",
       "      <td>0.0</td>\n",
       "      <td>0.0</td>\n",
       "      <td>-49.0</td>\n",
       "      <td>12.0</td>\n",
       "      <td>11.0</td>\n",
       "      <td>6.0</td>\n",
       "      <td>1</td>\n",
       "      <td>1</td>\n",
       "      <td>0.6</td>\n",
       "      <td>361.3</td>\n",
       "    </tr>\n",
       "  </tbody>\n",
       "</table>\n",
       "<p>5 rows × 134 columns</p>\n",
       "</div>"
      ],
      "text/plain": [
       "        CIF_ID        ACCT_OPN_DATE        FORACID  MAX_DPD_BEFORE  \\\n",
       "0  54303364670  1529366400000000000   490577365253              14   \n",
       "1  54306108160  1529366400000000000   920577362343               0   \n",
       "2  54303951682  1528934400000000000   490577353321               0   \n",
       "3  54300356513  1528675200000000000  1090577340800               0   \n",
       "4  54305312299  1529539200000000000   490577372574              28   \n",
       "\n",
       "   NUMBER_OF_MONTHS_SINCE_OPEN  AGE  NUMBER_OF_MONTHS_ACTIVE_3Y_C  \\\n",
       "0                          116   55                          36.0   \n",
       "1                           82   31                          36.0   \n",
       "2                          110   41                          23.0   \n",
       "3                          141   71                          35.0   \n",
       "4                           93   31                          29.0   \n",
       "\n",
       "   NUMBER_OF_MONTHS_ACTIVE_3Y_D  TRAN_AMT_25_PERCENTILE_3Y_C  \\\n",
       "0                          36.0                      19584.0   \n",
       "1                          36.0                      14714.0   \n",
       "2                          23.0                          0.0   \n",
       "3                          36.0                       5286.9   \n",
       "4                          30.0                       2589.5   \n",
       "\n",
       "   TRAN_AMT_25_PERCENTILE_3Y_D  ...  FREQUENCY_1Y_max_h100k_500k  \\\n",
       "0                      20362.4  ...                         26.0   \n",
       "1                      11121.8  ...                          0.0   \n",
       "2                          0.0  ...                         31.0   \n",
       "3                       4920.5  ...                          0.0   \n",
       "4                        150.0  ...                          0.0   \n",
       "\n",
       "   FREQUENCY_1Y_max_i500kabove  PERC_CHANGE_AMT_2Y  REMITTANCE_MONTHS_0_12  \\\n",
       "0                          0.0                19.3                    12.0   \n",
       "1                          0.0               -34.1                    12.0   \n",
       "2                          1.0                 6.0                    12.0   \n",
       "3                          0.0               -40.1                    12.0   \n",
       "4                          0.0               -49.0                    12.0   \n",
       "\n",
       "   REMITTANCE_MONTHS_13_24  REMITTANCE_MONTHS_25_36  RISK  optimal_predicted  \\\n",
       "0                     12.0                     12.0     0                  0   \n",
       "1                     12.0                     12.0     0                  0   \n",
       "2                     10.0                      1.0     0                  0   \n",
       "3                     12.0                     11.0     0                  0   \n",
       "4                     11.0                      6.0     1                  1   \n",
       "\n",
       "   probability_of_default  PREDICTED_SCORE  \n",
       "0                     0.1            877.8  \n",
       "1                     0.2            793.1  \n",
       "2                     0.2            839.6  \n",
       "3                     0.1            866.6  \n",
       "4                     0.6            361.3  \n",
       "\n",
       "[5 rows x 134 columns]"
      ]
     },
     "execution_count": 8,
     "metadata": {},
     "output_type": "execute_result"
    }
   ],
   "source": [
    "numerical = data.select_dtypes(include=['int','float'])\n",
    "numerical.head()"
   ]
  },
  {
   "cell_type": "code",
   "execution_count": 9,
   "id": "de8baa390332f7d8",
   "metadata": {
    "ExecuteTime": {
     "end_time": "2023-09-15T13:36:53.653672774Z",
     "start_time": "2023-09-15T13:36:52.301213853Z"
    },
    "collapsed": false
   },
   "outputs": [
    {
     "data": {
      "text/html": [
       "<div>\n",
       "<style scoped>\n",
       "    .dataframe tbody tr th:only-of-type {\n",
       "        vertical-align: middle;\n",
       "    }\n",
       "\n",
       "    .dataframe tbody tr th {\n",
       "        vertical-align: top;\n",
       "    }\n",
       "\n",
       "    .dataframe thead th {\n",
       "        text-align: right;\n",
       "    }\n",
       "</style>\n",
       "<table border=\"1\" class=\"dataframe\">\n",
       "  <thead>\n",
       "    <tr style=\"text-align: right;\">\n",
       "      <th></th>\n",
       "      <th>OCCUPATION</th>\n",
       "      <th>MODE_BALANCE_BIN_3Y</th>\n",
       "      <th>SEGMENTATION_CLASS</th>\n",
       "      <th>SUBSEGMENT</th>\n",
       "      <th>MODE_BALANCE_BIN_1Y</th>\n",
       "    </tr>\n",
       "  </thead>\n",
       "  <tbody>\n",
       "    <tr>\n",
       "      <th>0</th>\n",
       "      <td>OTH</td>\n",
       "      <td>b0_1k</td>\n",
       "      <td>RETAIL</td>\n",
       "      <td>LOWER MIDDLE INCOME 2</td>\n",
       "      <td>b0_1k</td>\n",
       "    </tr>\n",
       "    <tr>\n",
       "      <th>1</th>\n",
       "      <td>FARM</td>\n",
       "      <td>b0_1k</td>\n",
       "      <td>RETAIL</td>\n",
       "      <td>LOW INCOME  1</td>\n",
       "      <td>b0_1k</td>\n",
       "    </tr>\n",
       "    <tr>\n",
       "      <th>2</th>\n",
       "      <td>FARM</td>\n",
       "      <td>b0_1k</td>\n",
       "      <td>RETAIL</td>\n",
       "      <td>LOWER MIDDLE INCOME 2</td>\n",
       "      <td>h100k_500k</td>\n",
       "    </tr>\n",
       "    <tr>\n",
       "      <th>3</th>\n",
       "      <td>OTH</td>\n",
       "      <td>b0_1k</td>\n",
       "      <td>RETAIL</td>\n",
       "      <td>LOWER MIDDLE INCOME 2</td>\n",
       "      <td>b0_1k</td>\n",
       "    </tr>\n",
       "    <tr>\n",
       "      <th>4</th>\n",
       "      <td>FARM</td>\n",
       "      <td>b0_1k</td>\n",
       "      <td>RETAIL</td>\n",
       "      <td>LOW INCOME  1</td>\n",
       "      <td>b0_1k</td>\n",
       "    </tr>\n",
       "  </tbody>\n",
       "</table>\n",
       "</div>"
      ],
      "text/plain": [
       "  OCCUPATION MODE_BALANCE_BIN_3Y SEGMENTATION_CLASS             SUBSEGMENT  \\\n",
       "0        OTH               b0_1k             RETAIL  LOWER MIDDLE INCOME 2   \n",
       "1       FARM               b0_1k             RETAIL          LOW INCOME  1   \n",
       "2       FARM               b0_1k             RETAIL  LOWER MIDDLE INCOME 2   \n",
       "3        OTH               b0_1k             RETAIL  LOWER MIDDLE INCOME 2   \n",
       "4       FARM               b0_1k             RETAIL          LOW INCOME  1   \n",
       "\n",
       "  MODE_BALANCE_BIN_1Y  \n",
       "0               b0_1k  \n",
       "1               b0_1k  \n",
       "2          h100k_500k  \n",
       "3               b0_1k  \n",
       "4               b0_1k  "
      ]
     },
     "execution_count": 9,
     "metadata": {},
     "output_type": "execute_result"
    }
   ],
   "source": [
    "categorical = data.select_dtypes(include=['object'])\n",
    "categorical.head()"
   ]
  },
  {
   "cell_type": "markdown",
   "id": "be0b8488965af5a2",
   "metadata": {
    "collapsed": false
   },
   "source": [
    "We have managed to split our data into categorical and numerical types"
   ]
  },
  {
   "cell_type": "markdown",
   "id": "4663239a965047b1",
   "metadata": {
    "collapsed": false
   },
   "source": [
    "## EXPLORATORY DATA ANALYSIS\n",
    "Lets what this data is all about\n",
    "First, we start by checking the age distribution of people who take up loans"
   ]
  },
  {
   "cell_type": "code",
   "execution_count": 10,
   "id": "c4e79440c773cc29",
   "metadata": {
    "ExecuteTime": {
     "end_time": "2023-09-15T13:36:53.653910133Z",
     "start_time": "2023-09-15T13:36:52.344846782Z"
    },
    "collapsed": false
   },
   "outputs": [
    {
     "data": {
      "text/plain": [
       "19"
      ]
     },
     "execution_count": 10,
     "metadata": {},
     "output_type": "execute_result"
    }
   ],
   "source": [
    "numerical['AGE'].min()"
   ]
  },
  {
   "cell_type": "code",
   "execution_count": 11,
   "id": "a1eef8bf4952ee8",
   "metadata": {
    "ExecuteTime": {
     "end_time": "2023-09-15T13:36:53.654483140Z",
     "start_time": "2023-09-15T13:36:52.392598003Z"
    },
    "collapsed": false
   },
   "outputs": [
    {
     "data": {
      "text/plain": [
       "Text(0.5, 1.0, 'Age Frequency Distribution')"
      ]
     },
     "execution_count": 11,
     "metadata": {},
     "output_type": "execute_result"
    },
    {
     "data": {
      "image/png": "[encoded data removed]",
      "text/plain": [
       "<Figure size 640x480 with 1 Axes>"
      ]
     },
     "metadata": {},
     "output_type": "display_data"
    }
   ],
   "source": [
    "import matplotlib.pyplot as plt\n",
    "plt.hist(data['AGE'],bins=10)\n",
    "plt.xlabel('Age')\n",
    "plt.ylabel('Frequency')\n",
    "plt.title('Age Frequency Distribution')"
   ]
  },
  {
   "cell_type": "markdown",
   "id": "d4dd15718e8e7518",
   "metadata": {
    "collapsed": false
   },
   "source": [
    "We can see that there is a high number of people between the age of 30 and 60 who take up loans\n",
    "\n",
    "Now lets try and see which age group has the most amount of transactional accounts"
   ]
  },
  {
   "cell_type": "code",
   "execution_count": 12,
   "id": "2c88f2c8755ad140",
   "metadata": {
    "ExecuteTime": {
     "end_time": "2023-09-15T13:36:53.654599140Z",
     "start_time": "2023-09-15T13:36:53.051610572Z"
    },
    "collapsed": false
   },
   "outputs": [],
   "source": [
    "data1 = data.copy()\n",
    "bins = [0,9,19,29,39,49,59,69,79,89,99]\n",
    "labels = ['0-9', '10-19', '20-29', '30-39', '40-49', '50-59', '60-69', '70-79', '80-89', '90-99']\n",
    "data1['AGE'] = pd.cut(data1['AGE'],bins=bins,labels=labels,right=False)\n",
    "\n",
    "#We will group by age group and calculate the average number of transactional accounts\n",
    "result = data1.groupby('AGE')['NO_OF_TRANSACTIONAL_ACCTS'].mean().reset_index()"
   ]
  },
  {
   "cell_type": "code",
   "execution_count": 13,
   "id": "11e48ed9d45522f",
   "metadata": {
    "ExecuteTime": {
     "end_time": "2023-09-15T13:36:53.655218695Z",
     "start_time": "2023-09-15T13:36:53.073321127Z"
    },
    "collapsed": false
   },
   "outputs": [
    {
     "data": {
      "image/png": "[encoded data removed]",
      "text/plain": [
       "<Figure size 640x480 with 1 Axes>"
      ]
     },
     "metadata": {},
     "output_type": "display_data"
    }
   ],
   "source": [
    "#Lets visualize\n",
    "plt.figure()\n",
    "plt.bar(result['AGE'],result['NO_OF_TRANSACTIONAL_ACCTS'])\n",
    "plt.xlabel('Age Group')\n",
    "plt.ylabel('Average Transactional Accounts')\n",
    "plt.title('Average Transactional Accounts by Age Group')\n",
    "\n",
    "# Show the plot\n",
    "plt.xticks(rotation=45) \n",
    "plt.tight_layout()\n",
    "plt.show()\n"
   ]
  },
  {
   "cell_type": "markdown",
   "id": "e876c51e0cc881f4",
   "metadata": {
    "collapsed": false
   },
   "source": [
    "We can now look at the annual income in the age groups"
   ]
  },
  {
   "cell_type": "code",
   "execution_count": 14,
   "id": "fd370ea17758fd15",
   "metadata": {
    "ExecuteTime": {
     "end_time": "2023-09-15T13:36:54.339090613Z",
     "start_time": "2023-09-15T13:36:53.561282316Z"
    },
    "collapsed": false
   },
   "outputs": [
    {
     "data": {
      "image/png": "[encoded data removed]",
      "text/plain": [
       "<Figure size 640x480 with 1 Axes>"
      ]
     },
     "metadata": {},
     "output_type": "display_data"
    }
   ],
   "source": [
    "income = data1.groupby('AGE')['AVG_ANNUAL_INCOME(3Y)'].mean().reset_index()\n",
    "#Lets visualize\n",
    "plt.figure()\n",
    "plt.bar(income['AGE'],income['AVG_ANNUAL_INCOME(3Y)'])\n",
    "plt.xlabel('Age Group')\n",
    "plt.ylabel('Average Annual Income')\n",
    "plt.title('Average Annual Income by Age Group')\n",
    "\n",
    "# Show the plot\n",
    "plt.xticks(rotation=45)\n",
    "plt.tight_layout()\n",
    "plt.show()"
   ]
  },
  {
   "cell_type": "markdown",
   "id": "c82868c0508381a5",
   "metadata": {
    "collapsed": false
   },
   "source": [
    "With that minimal data exploratory analysis, Let's move on"
   ]
  },
  {
   "cell_type": "markdown",
   "id": "f6f90ed8b0c59c97",
   "metadata": {
    "collapsed": false
   },
   "source": [
    "## DATA PREPROCESSING"
   ]
  },
  {
   "cell_type": "code",
   "execution_count": 15,
   "id": "e545883f8b1cabb9",
   "metadata": {
    "ExecuteTime": {
     "end_time": "2023-09-15T13:36:54.339692056Z",
     "start_time": "2023-09-15T13:36:53.776598966Z"
    },
    "collapsed": false
   },
   "outputs": [
    {
     "data": {
      "text/plain": [
       "array(['RETAIL', 'BUSINESS', 'CONSM', 'AGRIC', 'OTHER', 'MICRO'],\n",
       "      dtype=object)"
      ]
     },
     "execution_count": 15,
     "metadata": {},
     "output_type": "execute_result"
    }
   ],
   "source": [
    "categorical['SEGMENTATION_CLASS'].unique()"
   ]
  },
  {
   "cell_type": "code",
   "execution_count": 16,
   "id": "d3a0ca8acbee5d65",
   "metadata": {
    "ExecuteTime": {
     "end_time": "2023-09-15T13:36:54.340089725Z",
     "start_time": "2023-09-15T13:36:53.790131574Z"
    },
    "collapsed": false
   },
   "outputs": [
    {
     "data": {
      "text/plain": [
       "array(['LOWER MIDDLE INCOME 2', 'LOW INCOME  1', 'BUSINESS MICRO 1',\n",
       "       'CONSA', 'UPPER MIDDLE INCOME 3', 'AGRCA', 'BUSINESS LOWER SME 2',\n",
       "       'HIGH NET WORTH 4', 'OTHER', 'AGRCB', 'MICRB', 'CONSB'],\n",
       "      dtype=object)"
      ]
     },
     "execution_count": 16,
     "metadata": {},
     "output_type": "execute_result"
    }
   ],
   "source": [
    "categorical['SUBSEGMENT'].unique()"
   ]
  },
  {
   "cell_type": "code",
   "execution_count": 17,
   "id": "7c48ad3bde992031",
   "metadata": {
    "ExecuteTime": {
     "end_time": "2023-09-15T13:36:54.340440862Z",
     "start_time": "2023-09-15T13:36:53.811743008Z"
    },
    "collapsed": false
   },
   "outputs": [
    {
     "data": {
      "text/plain": [
       "array(['b0_1k', 'h100k_500k', 'd5k_10k', 'c1_5k', 'g50k_100k', 'e10k_25k',\n",
       "       '0', 'a_less_than_0', 'f25k_50k', 'i500kabove'], dtype=object)"
      ]
     },
     "execution_count": 17,
     "metadata": {},
     "output_type": "execute_result"
    }
   ],
   "source": [
    "categorical['MODE_BALANCE_BIN_1Y'].unique()"
   ]
  },
  {
   "cell_type": "code",
   "execution_count": 18,
   "id": "4025126d048828bd",
   "metadata": {
    "ExecuteTime": {
     "end_time": "2023-09-15T13:36:54.340779303Z",
     "start_time": "2023-09-15T13:36:53.818895563Z"
    },
    "collapsed": false
   },
   "outputs": [
    {
     "data": {
      "text/plain": [
       "array(['b0_1k', 'h100k_500k', 'c1_5k', 'g50k_100k', 'e10k_25k', '0',\n",
       "       'f25k_50k', 'd5k_10k', 'a_less_than_0', 'i500kabove'], dtype=object)"
      ]
     },
     "execution_count": 18,
     "metadata": {},
     "output_type": "execute_result"
    }
   ],
   "source": [
    "categorical['MODE_BALANCE_BIN_3Y'].unique()"
   ]
  },
  {
   "cell_type": "markdown",
   "id": "ba0c0d68d29dc00b",
   "metadata": {
    "collapsed": false
   },
   "source": [
    "We are going top perform onehot encoding on our categorical data"
   ]
  },
  {
   "cell_type": "code",
   "execution_count": 19,
   "id": "6b0882392ece7948",
   "metadata": {
    "ExecuteTime": {
     "end_time": "2023-09-15T13:36:54.342876090Z",
     "start_time": "2023-09-15T13:36:53.849023336Z"
    },
    "collapsed": false
   },
   "outputs": [
    {
     "name": "stderr",
     "output_type": "stream",
     "text": [
      "/home/roy/anaconda3/lib/python3.10/site-packages/sklearn/preprocessing/_encoders.py:828: FutureWarning: `sparse` was renamed to `sparse_output` in version 1.2 and will be removed in 1.4. `sparse_output` is ignored unless you leave `sparse` to its default value.\n",
      "  warnings.warn(\n"
     ]
    },
    {
     "data": {
      "text/html": [
       "<div>\n",
       "<style scoped>\n",
       "    .dataframe tbody tr th:only-of-type {\n",
       "        vertical-align: middle;\n",
       "    }\n",
       "\n",
       "    .dataframe tbody tr th {\n",
       "        vertical-align: top;\n",
       "    }\n",
       "\n",
       "    .dataframe thead th {\n",
       "        text-align: right;\n",
       "    }\n",
       "</style>\n",
       "<table border=\"1\" class=\"dataframe\">\n",
       "  <thead>\n",
       "    <tr style=\"text-align: right;\">\n",
       "      <th></th>\n",
       "      <th>OCCUPATION_ADMIN</th>\n",
       "      <th>OCCUPATION_ARTIS</th>\n",
       "      <th>OCCUPATION_AUD</th>\n",
       "      <th>OCCUPATION_BNESS</th>\n",
       "      <th>OCCUPATION_CIVIL</th>\n",
       "      <th>OCCUPATION_CLERI</th>\n",
       "      <th>OCCUPATION_CLRGY</th>\n",
       "      <th>OCCUPATION_CONST</th>\n",
       "      <th>OCCUPATION_CPTR</th>\n",
       "      <th>OCCUPATION_CTR</th>\n",
       "      <th>...</th>\n",
       "      <th>SUBSEGMENT_UPPER MIDDLE INCOME 3</th>\n",
       "      <th>MODE_BALANCE_BIN_1Y_a_less_than_0</th>\n",
       "      <th>MODE_BALANCE_BIN_1Y_b0_1k</th>\n",
       "      <th>MODE_BALANCE_BIN_1Y_c1_5k</th>\n",
       "      <th>MODE_BALANCE_BIN_1Y_d5k_10k</th>\n",
       "      <th>MODE_BALANCE_BIN_1Y_e10k_25k</th>\n",
       "      <th>MODE_BALANCE_BIN_1Y_f25k_50k</th>\n",
       "      <th>MODE_BALANCE_BIN_1Y_g50k_100k</th>\n",
       "      <th>MODE_BALANCE_BIN_1Y_h100k_500k</th>\n",
       "      <th>MODE_BALANCE_BIN_1Y_i500kabove</th>\n",
       "    </tr>\n",
       "  </thead>\n",
       "  <tbody>\n",
       "    <tr>\n",
       "      <th>0</th>\n",
       "      <td>0.0</td>\n",
       "      <td>0.0</td>\n",
       "      <td>0.0</td>\n",
       "      <td>0.0</td>\n",
       "      <td>0.0</td>\n",
       "      <td>0.0</td>\n",
       "      <td>0.0</td>\n",
       "      <td>0.0</td>\n",
       "      <td>0.0</td>\n",
       "      <td>0.0</td>\n",
       "      <td>...</td>\n",
       "      <td>0.0</td>\n",
       "      <td>0.0</td>\n",
       "      <td>1.0</td>\n",
       "      <td>0.0</td>\n",
       "      <td>0.0</td>\n",
       "      <td>0.0</td>\n",
       "      <td>0.0</td>\n",
       "      <td>0.0</td>\n",
       "      <td>0.0</td>\n",
       "      <td>0.0</td>\n",
       "    </tr>\n",
       "    <tr>\n",
       "      <th>1</th>\n",
       "      <td>0.0</td>\n",
       "      <td>0.0</td>\n",
       "      <td>0.0</td>\n",
       "      <td>0.0</td>\n",
       "      <td>0.0</td>\n",
       "      <td>0.0</td>\n",
       "      <td>0.0</td>\n",
       "      <td>0.0</td>\n",
       "      <td>0.0</td>\n",
       "      <td>0.0</td>\n",
       "      <td>...</td>\n",
       "      <td>0.0</td>\n",
       "      <td>0.0</td>\n",
       "      <td>1.0</td>\n",
       "      <td>0.0</td>\n",
       "      <td>0.0</td>\n",
       "      <td>0.0</td>\n",
       "      <td>0.0</td>\n",
       "      <td>0.0</td>\n",
       "      <td>0.0</td>\n",
       "      <td>0.0</td>\n",
       "    </tr>\n",
       "    <tr>\n",
       "      <th>2</th>\n",
       "      <td>0.0</td>\n",
       "      <td>0.0</td>\n",
       "      <td>0.0</td>\n",
       "      <td>0.0</td>\n",
       "      <td>0.0</td>\n",
       "      <td>0.0</td>\n",
       "      <td>0.0</td>\n",
       "      <td>0.0</td>\n",
       "      <td>0.0</td>\n",
       "      <td>0.0</td>\n",
       "      <td>...</td>\n",
       "      <td>0.0</td>\n",
       "      <td>0.0</td>\n",
       "      <td>0.0</td>\n",
       "      <td>0.0</td>\n",
       "      <td>0.0</td>\n",
       "      <td>0.0</td>\n",
       "      <td>0.0</td>\n",
       "      <td>0.0</td>\n",
       "      <td>1.0</td>\n",
       "      <td>0.0</td>\n",
       "    </tr>\n",
       "    <tr>\n",
       "      <th>3</th>\n",
       "      <td>0.0</td>\n",
       "      <td>0.0</td>\n",
       "      <td>0.0</td>\n",
       "      <td>0.0</td>\n",
       "      <td>0.0</td>\n",
       "      <td>0.0</td>\n",
       "      <td>0.0</td>\n",
       "      <td>0.0</td>\n",
       "      <td>0.0</td>\n",
       "      <td>0.0</td>\n",
       "      <td>...</td>\n",
       "      <td>0.0</td>\n",
       "      <td>0.0</td>\n",
       "      <td>1.0</td>\n",
       "      <td>0.0</td>\n",
       "      <td>0.0</td>\n",
       "      <td>0.0</td>\n",
       "      <td>0.0</td>\n",
       "      <td>0.0</td>\n",
       "      <td>0.0</td>\n",
       "      <td>0.0</td>\n",
       "    </tr>\n",
       "    <tr>\n",
       "      <th>4</th>\n",
       "      <td>0.0</td>\n",
       "      <td>0.0</td>\n",
       "      <td>0.0</td>\n",
       "      <td>0.0</td>\n",
       "      <td>0.0</td>\n",
       "      <td>0.0</td>\n",
       "      <td>0.0</td>\n",
       "      <td>0.0</td>\n",
       "      <td>0.0</td>\n",
       "      <td>0.0</td>\n",
       "      <td>...</td>\n",
       "      <td>0.0</td>\n",
       "      <td>0.0</td>\n",
       "      <td>1.0</td>\n",
       "      <td>0.0</td>\n",
       "      <td>0.0</td>\n",
       "      <td>0.0</td>\n",
       "      <td>0.0</td>\n",
       "      <td>0.0</td>\n",
       "      <td>0.0</td>\n",
       "      <td>0.0</td>\n",
       "    </tr>\n",
       "    <tr>\n",
       "      <th>...</th>\n",
       "      <td>...</td>\n",
       "      <td>...</td>\n",
       "      <td>...</td>\n",
       "      <td>...</td>\n",
       "      <td>...</td>\n",
       "      <td>...</td>\n",
       "      <td>...</td>\n",
       "      <td>...</td>\n",
       "      <td>...</td>\n",
       "      <td>...</td>\n",
       "      <td>...</td>\n",
       "      <td>...</td>\n",
       "      <td>...</td>\n",
       "      <td>...</td>\n",
       "      <td>...</td>\n",
       "      <td>...</td>\n",
       "      <td>...</td>\n",
       "      <td>...</td>\n",
       "      <td>...</td>\n",
       "      <td>...</td>\n",
       "      <td>...</td>\n",
       "    </tr>\n",
       "    <tr>\n",
       "      <th>14928</th>\n",
       "      <td>0.0</td>\n",
       "      <td>0.0</td>\n",
       "      <td>0.0</td>\n",
       "      <td>0.0</td>\n",
       "      <td>0.0</td>\n",
       "      <td>0.0</td>\n",
       "      <td>0.0</td>\n",
       "      <td>0.0</td>\n",
       "      <td>0.0</td>\n",
       "      <td>0.0</td>\n",
       "      <td>...</td>\n",
       "      <td>0.0</td>\n",
       "      <td>0.0</td>\n",
       "      <td>1.0</td>\n",
       "      <td>0.0</td>\n",
       "      <td>0.0</td>\n",
       "      <td>0.0</td>\n",
       "      <td>0.0</td>\n",
       "      <td>0.0</td>\n",
       "      <td>0.0</td>\n",
       "      <td>0.0</td>\n",
       "    </tr>\n",
       "    <tr>\n",
       "      <th>14929</th>\n",
       "      <td>0.0</td>\n",
       "      <td>0.0</td>\n",
       "      <td>0.0</td>\n",
       "      <td>0.0</td>\n",
       "      <td>0.0</td>\n",
       "      <td>0.0</td>\n",
       "      <td>0.0</td>\n",
       "      <td>0.0</td>\n",
       "      <td>0.0</td>\n",
       "      <td>0.0</td>\n",
       "      <td>...</td>\n",
       "      <td>0.0</td>\n",
       "      <td>0.0</td>\n",
       "      <td>1.0</td>\n",
       "      <td>0.0</td>\n",
       "      <td>0.0</td>\n",
       "      <td>0.0</td>\n",
       "      <td>0.0</td>\n",
       "      <td>0.0</td>\n",
       "      <td>0.0</td>\n",
       "      <td>0.0</td>\n",
       "    </tr>\n",
       "    <tr>\n",
       "      <th>14930</th>\n",
       "      <td>0.0</td>\n",
       "      <td>0.0</td>\n",
       "      <td>0.0</td>\n",
       "      <td>0.0</td>\n",
       "      <td>0.0</td>\n",
       "      <td>0.0</td>\n",
       "      <td>0.0</td>\n",
       "      <td>0.0</td>\n",
       "      <td>0.0</td>\n",
       "      <td>0.0</td>\n",
       "      <td>...</td>\n",
       "      <td>0.0</td>\n",
       "      <td>0.0</td>\n",
       "      <td>1.0</td>\n",
       "      <td>0.0</td>\n",
       "      <td>0.0</td>\n",
       "      <td>0.0</td>\n",
       "      <td>0.0</td>\n",
       "      <td>0.0</td>\n",
       "      <td>0.0</td>\n",
       "      <td>0.0</td>\n",
       "    </tr>\n",
       "    <tr>\n",
       "      <th>14931</th>\n",
       "      <td>0.0</td>\n",
       "      <td>0.0</td>\n",
       "      <td>0.0</td>\n",
       "      <td>0.0</td>\n",
       "      <td>0.0</td>\n",
       "      <td>0.0</td>\n",
       "      <td>0.0</td>\n",
       "      <td>0.0</td>\n",
       "      <td>0.0</td>\n",
       "      <td>0.0</td>\n",
       "      <td>...</td>\n",
       "      <td>0.0</td>\n",
       "      <td>0.0</td>\n",
       "      <td>1.0</td>\n",
       "      <td>0.0</td>\n",
       "      <td>0.0</td>\n",
       "      <td>0.0</td>\n",
       "      <td>0.0</td>\n",
       "      <td>0.0</td>\n",
       "      <td>0.0</td>\n",
       "      <td>0.0</td>\n",
       "    </tr>\n",
       "    <tr>\n",
       "      <th>14932</th>\n",
       "      <td>0.0</td>\n",
       "      <td>0.0</td>\n",
       "      <td>0.0</td>\n",
       "      <td>0.0</td>\n",
       "      <td>0.0</td>\n",
       "      <td>0.0</td>\n",
       "      <td>0.0</td>\n",
       "      <td>0.0</td>\n",
       "      <td>0.0</td>\n",
       "      <td>0.0</td>\n",
       "      <td>...</td>\n",
       "      <td>0.0</td>\n",
       "      <td>0.0</td>\n",
       "      <td>1.0</td>\n",
       "      <td>0.0</td>\n",
       "      <td>0.0</td>\n",
       "      <td>0.0</td>\n",
       "      <td>0.0</td>\n",
       "      <td>0.0</td>\n",
       "      <td>0.0</td>\n",
       "      <td>0.0</td>\n",
       "    </tr>\n",
       "  </tbody>\n",
       "</table>\n",
       "<p>14933 rows × 68 columns</p>\n",
       "</div>"
      ],
      "text/plain": [
       "       OCCUPATION_ADMIN  OCCUPATION_ARTIS  OCCUPATION_AUD  OCCUPATION_BNESS  \\\n",
       "0                   0.0               0.0             0.0               0.0   \n",
       "1                   0.0               0.0             0.0               0.0   \n",
       "2                   0.0               0.0             0.0               0.0   \n",
       "3                   0.0               0.0             0.0               0.0   \n",
       "4                   0.0               0.0             0.0               0.0   \n",
       "...                 ...               ...             ...               ...   \n",
       "14928               0.0               0.0             0.0               0.0   \n",
       "14929               0.0               0.0             0.0               0.0   \n",
       "14930               0.0               0.0             0.0               0.0   \n",
       "14931               0.0               0.0             0.0               0.0   \n",
       "14932               0.0               0.0             0.0               0.0   \n",
       "\n",
       "       OCCUPATION_CIVIL  OCCUPATION_CLERI  OCCUPATION_CLRGY  OCCUPATION_CONST  \\\n",
       "0                   0.0               0.0               0.0               0.0   \n",
       "1                   0.0               0.0               0.0               0.0   \n",
       "2                   0.0               0.0               0.0               0.0   \n",
       "3                   0.0               0.0               0.0               0.0   \n",
       "4                   0.0               0.0               0.0               0.0   \n",
       "...                 ...               ...               ...               ...   \n",
       "14928               0.0               0.0               0.0               0.0   \n",
       "14929               0.0               0.0               0.0               0.0   \n",
       "14930               0.0               0.0               0.0               0.0   \n",
       "14931               0.0               0.0               0.0               0.0   \n",
       "14932               0.0               0.0               0.0               0.0   \n",
       "\n",
       "       OCCUPATION_CPTR  OCCUPATION_CTR  ...  SUBSEGMENT_UPPER MIDDLE INCOME 3  \\\n",
       "0                  0.0             0.0  ...                               0.0   \n",
       "1                  0.0             0.0  ...                               0.0   \n",
       "2                  0.0             0.0  ...                               0.0   \n",
       "3                  0.0             0.0  ...                               0.0   \n",
       "4                  0.0             0.0  ...                               0.0   \n",
       "...                ...             ...  ...                               ...   \n",
       "14928              0.0             0.0  ...                               0.0   \n",
       "14929              0.0             0.0  ...                               0.0   \n",
       "14930              0.0             0.0  ...                               0.0   \n",
       "14931              0.0             0.0  ...                               0.0   \n",
       "14932              0.0             0.0  ...                               0.0   \n",
       "\n",
       "       MODE_BALANCE_BIN_1Y_a_less_than_0  MODE_BALANCE_BIN_1Y_b0_1k  \\\n",
       "0                                    0.0                        1.0   \n",
       "1                                    0.0                        1.0   \n",
       "2                                    0.0                        0.0   \n",
       "3                                    0.0                        1.0   \n",
       "4                                    0.0                        1.0   \n",
       "...                                  ...                        ...   \n",
       "14928                                0.0                        1.0   \n",
       "14929                                0.0                        1.0   \n",
       "14930                                0.0                        1.0   \n",
       "14931                                0.0                        1.0   \n",
       "14932                                0.0                        1.0   \n",
       "\n",
       "       MODE_BALANCE_BIN_1Y_c1_5k  MODE_BALANCE_BIN_1Y_d5k_10k  \\\n",
       "0                            0.0                          0.0   \n",
       "1                            0.0                          0.0   \n",
       "2                            0.0                          0.0   \n",
       "3                            0.0                          0.0   \n",
       "4                            0.0                          0.0   \n",
       "...                          ...                          ...   \n",
       "14928                        0.0                          0.0   \n",
       "14929                        0.0                          0.0   \n",
       "14930                        0.0                          0.0   \n",
       "14931                        0.0                          0.0   \n",
       "14932                        0.0                          0.0   \n",
       "\n",
       "       MODE_BALANCE_BIN_1Y_e10k_25k  MODE_BALANCE_BIN_1Y_f25k_50k  \\\n",
       "0                               0.0                           0.0   \n",
       "1                               0.0                           0.0   \n",
       "2                               0.0                           0.0   \n",
       "3                               0.0                           0.0   \n",
       "4                               0.0                           0.0   \n",
       "...                             ...                           ...   \n",
       "14928                           0.0                           0.0   \n",
       "14929                           0.0                           0.0   \n",
       "14930                           0.0                           0.0   \n",
       "14931                           0.0                           0.0   \n",
       "14932                           0.0                           0.0   \n",
       "\n",
       "       MODE_BALANCE_BIN_1Y_g50k_100k  MODE_BALANCE_BIN_1Y_h100k_500k  \\\n",
       "0                                0.0                             0.0   \n",
       "1                                0.0                             0.0   \n",
       "2                                0.0                             1.0   \n",
       "3                                0.0                             0.0   \n",
       "4                                0.0                             0.0   \n",
       "...                              ...                             ...   \n",
       "14928                            0.0                             0.0   \n",
       "14929                            0.0                             0.0   \n",
       "14930                            0.0                             0.0   \n",
       "14931                            0.0                             0.0   \n",
       "14932                            0.0                             0.0   \n",
       "\n",
       "       MODE_BALANCE_BIN_1Y_i500kabove  \n",
       "0                                 0.0  \n",
       "1                                 0.0  \n",
       "2                                 0.0  \n",
       "3                                 0.0  \n",
       "4                                 0.0  \n",
       "...                               ...  \n",
       "14928                             0.0  \n",
       "14929                             0.0  \n",
       "14930                             0.0  \n",
       "14931                             0.0  \n",
       "14932                             0.0  \n",
       "\n",
       "[14933 rows x 68 columns]"
      ]
     },
     "execution_count": 19,
     "metadata": {},
     "output_type": "execute_result"
    }
   ],
   "source": [
    "from sklearn.preprocessing import OneHotEncoder\n",
    "encoder = OneHotEncoder(sparse=False,drop='first')\n",
    "encoded_data = encoder.fit_transform(categorical)\n",
    "\n",
    "encoded_df = pd.DataFrame(encoded_data,columns=encoder.get_feature_names_out(categorical.columns))\n",
    "encoded_df"
   ]
  },
  {
   "cell_type": "code",
   "execution_count": 20,
   "id": "dc567a0eff97773a",
   "metadata": {
    "ExecuteTime": {
     "end_time": "2023-09-15T13:36:54.343353770Z",
     "start_time": "2023-09-15T13:36:53.954260563Z"
    },
    "collapsed": false
   },
   "outputs": [],
   "source": [
    "data_ML = data.copy()\n",
    "data_ML = pd.concat([data_ML.drop(categorical,axis=1),encoded_df],axis=1)"
   ]
  },
  {
   "cell_type": "code",
   "execution_count": 21,
   "id": "b64f198ddbf93b78",
   "metadata": {
    "ExecuteTime": {
     "end_time": "2023-09-15T13:36:54.344089043Z",
     "start_time": "2023-09-15T13:36:54.006640852Z"
    },
    "collapsed": false
   },
   "outputs": [
    {
     "data": {
      "text/html": [
       "<div>\n",
       "<style scoped>\n",
       "    .dataframe tbody tr th:only-of-type {\n",
       "        vertical-align: middle;\n",
       "    }\n",
       "\n",
       "    .dataframe tbody tr th {\n",
       "        vertical-align: top;\n",
       "    }\n",
       "\n",
       "    .dataframe thead th {\n",
       "        text-align: right;\n",
       "    }\n",
       "</style>\n",
       "<table border=\"1\" class=\"dataframe\">\n",
       "  <thead>\n",
       "    <tr style=\"text-align: right;\">\n",
       "      <th></th>\n",
       "    </tr>\n",
       "  </thead>\n",
       "  <tbody>\n",
       "    <tr>\n",
       "      <th>0</th>\n",
       "    </tr>\n",
       "    <tr>\n",
       "      <th>1</th>\n",
       "    </tr>\n",
       "    <tr>\n",
       "      <th>2</th>\n",
       "    </tr>\n",
       "    <tr>\n",
       "      <th>3</th>\n",
       "    </tr>\n",
       "    <tr>\n",
       "      <th>4</th>\n",
       "    </tr>\n",
       "    <tr>\n",
       "      <th>...</th>\n",
       "    </tr>\n",
       "    <tr>\n",
       "      <th>14928</th>\n",
       "    </tr>\n",
       "    <tr>\n",
       "      <th>14929</th>\n",
       "    </tr>\n",
       "    <tr>\n",
       "      <th>14930</th>\n",
       "    </tr>\n",
       "    <tr>\n",
       "      <th>14931</th>\n",
       "    </tr>\n",
       "    <tr>\n",
       "      <th>14932</th>\n",
       "    </tr>\n",
       "  </tbody>\n",
       "</table>\n",
       "<p>14933 rows × 0 columns</p>\n",
       "</div>"
      ],
      "text/plain": [
       "Empty DataFrame\n",
       "Columns: []\n",
       "Index: [0, 1, 2, 3, 4, 5, 6, 7, 8, 9, 10, 11, 12, 13, 14, 15, 16, 17, 18, 19, 20, 21, 22, 23, 24, 25, 26, 27, 28, 29, 30, 31, 32, 33, 34, 35, 36, 37, 38, 39, 40, 41, 42, 43, 44, 45, 46, 47, 48, 49, 50, 51, 52, 53, 54, 55, 56, 57, 58, 59, 60, 61, 62, 63, 64, 65, 66, 67, 68, 69, 70, 71, 72, 73, 74, 75, 76, 77, 78, 79, 80, 81, 82, 83, 84, 85, 86, 87, 88, 89, 90, 91, 92, 93, 94, 95, 96, 97, 98, 99, ...]\n",
       "\n",
       "[14933 rows x 0 columns]"
      ]
     },
     "execution_count": 21,
     "metadata": {},
     "output_type": "execute_result"
    }
   ],
   "source": [
    "data_ML.select_dtypes(include='object')"
   ]
  },
  {
   "cell_type": "markdown",
   "id": "92c0baaf28d32df4",
   "metadata": {
    "collapsed": false
   },
   "source": [
    "## MODEL SELECTION"
   ]
  },
  {
   "cell_type": "markdown",
   "id": "97b01db022f4e234",
   "metadata": {
    "collapsed": false
   },
   "source": [
    "We will be predicting if a person is likely ro default on the loan he/she is given.\n",
    "This makes this a classification problem. We will go through all possible classification algorithms and find the suitable one"
   ]
  },
  {
   "cell_type": "code",
   "execution_count": 22,
   "id": "fd52a041b3f9e8c4",
   "metadata": {
    "ExecuteTime": {
     "end_time": "2023-09-15T13:36:54.385244943Z",
     "start_time": "2023-09-15T13:36:54.012614344Z"
    },
    "collapsed": false
   },
   "outputs": [
    {
     "name": "stdout",
     "output_type": "stream",
     "text": [
      "<class 'pandas.core.frame.DataFrame'>\n",
      "RangeIndex: 14933 entries, 0 to 14932\n",
      "Columns: 202 entries, CIF_ID to MODE_BALANCE_BIN_1Y_i500kabove\n",
      "dtypes: float64(193), int64(9)\n",
      "memory usage: 23.0 MB\n"
     ]
    }
   ],
   "source": [
    "data_ML.info()"
   ]
  },
  {
   "cell_type": "markdown",
   "id": "73e22d6d02d06bdc",
   "metadata": {
    "collapsed": false
   },
   "source": [
    "Let's prepare our data for modelling.\n",
    "We will be using K fold method to split and train our data"
   ]
  },
  {
   "cell_type": "code",
   "execution_count": 23,
   "id": "6d14b87f1c5a8e18",
   "metadata": {
    "ExecuteTime": {
     "end_time": "2023-09-15T13:36:54.599758134Z",
     "start_time": "2023-09-15T13:36:54.033379025Z"
    },
    "collapsed": false
   },
   "outputs": [],
   "source": [
    "X = data_ML.drop(columns=['optimal_predicted'])\n",
    "y = data_ML['optimal_predicted']"
   ]
  },
  {
   "cell_type": "code",
   "execution_count": 24,
   "id": "65d787661413e34c",
   "metadata": {
    "ExecuteTime": {
     "end_time": "2023-09-15T13:36:54.738290217Z",
     "start_time": "2023-09-15T13:36:54.104633264Z"
    },
    "collapsed": false
   },
   "outputs": [
    {
     "data": {
      "text/plain": [
       "0        55\n",
       "1        31\n",
       "2        41\n",
       "3        71\n",
       "4        31\n",
       "         ..\n",
       "14928    54\n",
       "14929    29\n",
       "14930    41\n",
       "14931    72\n",
       "14932    42\n",
       "Name: AGE, Length: 14933, dtype: int64"
      ]
     },
     "execution_count": 24,
     "metadata": {},
     "output_type": "execute_result"
    }
   ],
   "source": [
    "X['AGE']"
   ]
  },
  {
   "cell_type": "code",
   "execution_count": 25,
   "id": "8df4bfbf05411fc5",
   "metadata": {
    "ExecuteTime": {
     "end_time": "2023-09-15T13:36:54.738743745Z",
     "start_time": "2023-09-15T13:36:54.167333400Z"
    },
    "collapsed": false
   },
   "outputs": [
    {
     "data": {
      "text/plain": [
       "CIF_ID                            0\n",
       "ACCT_OPN_DATE                     0\n",
       "FORACID                           0\n",
       "MAX_DPD_BEFORE                    0\n",
       "NUMBER_OF_MONTHS_SINCE_OPEN       0\n",
       "                                 ..\n",
       "MODE_BALANCE_BIN_1Y_e10k_25k      0\n",
       "MODE_BALANCE_BIN_1Y_f25k_50k      0\n",
       "MODE_BALANCE_BIN_1Y_g50k_100k     0\n",
       "MODE_BALANCE_BIN_1Y_h100k_500k    0\n",
       "MODE_BALANCE_BIN_1Y_i500kabove    0\n",
       "Length: 201, dtype: int64"
      ]
     },
     "execution_count": 25,
     "metadata": {},
     "output_type": "execute_result"
    }
   ],
   "source": [
    "X.isnull().sum()"
   ]
  },
  {
   "cell_type": "code",
   "execution_count": 27,
   "id": "a1fef0e3eac52cee",
   "metadata": {
    "ExecuteTime": {
     "end_time": "2023-09-15T13:36:54.738873578Z",
     "start_time": "2023-09-15T13:36:54.229690887Z"
    },
    "collapsed": false
   },
   "outputs": [],
   "source": [
    "from sklearn.model_selection import KFold\n",
    "import numpy as np\n",
    "from sklearn.metrics import accuracy_score, confusion_matrix,precision_score,recall_score,f1_score\n",
    "#Function to train and test model\n",
    "\n",
    "def train_model(X,y,model,folds):\n",
    "    global y_test,y_train,y_pred\n",
    "    resultAS , resultPS,resultRS,resultf1 = [],[],[],[]\n",
    "    kf = KFold(n_splits=folds,shuffle=True,random_state=50)\n",
    "    for train_index,test_index in kf.split(X):\n",
    "        X_train,X_test = X.iloc[train_index],X.iloc[test_index]\n",
    "        y_train,y_test = y.iloc[train_index],y.iloc[test_index]\n",
    "        \n",
    "        model.fit(X_train,y_train)\n",
    "        y_pred = model.predict(X_test)\n",
    "        accuracyScore = accuracy_score(y_test,y_pred)\n",
    "        resultAS.append(accuracyScore)\n",
    "        precisionScore = precision_score(y_test,y_pred)\n",
    "        resultPS.append(precisionScore)\n",
    "        recall = recall_score(y_test,y_pred)\n",
    "        resultRS.append(recall)\n",
    "        f1 = f1_score(y_test,y_pred)\n",
    "        resultf1.append(f1)\n",
    "    print(\"Accuracy score for Each fold using accuracy score: \",resultAS)\n",
    "    print(\"Mean Accuracy:\", np.mean(resultAS))\n",
    "    print(\"Standard Deviation: \", np.std(resultAS))\n",
    "    print(\"Accuracy score for Each fold using precision score: \",resultPS)\n",
    "    print(\"Mean Accuracy:\", np.mean(resultPS))\n",
    "    print(\"Standard Deviation: \", np.std(resultPS))\n",
    "    print(\"Accuracy score for Each fold using recall score: \",resultRS)\n",
    "    print(\"Mean Accuracy:\", np.mean(resultRS))\n",
    "    print(\"Standard Deviation: \", np.std(resultRS))\n",
    "    print(\"Accuracy score for Each fold using F1 score: \",resultf1)\n",
    "    print(\"Mean Accuracy:\", np.mean(resultf1))\n",
    "    print(\"Standard Deviation: \", np.std(resultf1))\n",
    "    cnf_matrix = confusion_matrix(y_test,y_pred,labels=[1,0])\n",
    "    plt.figure()\n",
    "    plot_confusion_matrix(cnf_matrix,labels=['0','1'])\n",
    "        "
   ]
  },
  {
   "cell_type": "code",
   "execution_count": 28,
   "id": "7a98ffaf1e47786e",
   "metadata": {
    "ExecuteTime": {
     "end_time": "2023-09-15T13:36:54.738989120Z",
     "start_time": "2023-09-15T13:36:54.233851393Z"
    },
    "collapsed": false
   },
   "outputs": [],
   "source": [
    "from sklearn.metrics import confusion_matrix\n",
    "import seaborn as sns\n",
    "def plot_confusion_matrix(conf_matrix,labels):\n",
    "    plt.figure(figsize=(8, 6))\n",
    "    sns.heatmap(conf_matrix, annot=True, fmt=\"d\", cmap=\"Blues\", xticklabels=labels, yticklabels=labels)\n",
    "    plt.xlabel('Predicted')\n",
    "    plt.ylabel('Actual')\n",
    "    plt.title('Confusion Matrix')\n",
    "    plt.show()"
   ]
  },
  {
   "cell_type": "code",
   "execution_count": 29,
   "id": "2e3165b2a675c2c6",
   "metadata": {
    "ExecuteTime": {
     "end_time": "2023-09-15T13:36:54.739106908Z",
     "start_time": "2023-09-15T13:36:54.293919616Z"
    },
    "collapsed": false
   },
   "outputs": [],
   "source": [
    "#Function to test model\n",
    "def test_model(model,X_test,y_test):\n",
    "    y_pred = model.predict(X_test)\n",
    "    resultAS = accuracy_score(y_test,y_pred)\n",
    "    resultPS = precision_score(y_test,y_pred)\n",
    "    resultRS = recall_score(y_test,y_pred)\n",
    "    resultf1 = f1_score(y_test,y_pred)\n",
    "    print(\"Test accuracy using accuracy score: \",resultAS)\n",
    "    print(\"Test accuracy using precision score: \",resultPS)\n",
    "    print(\"Test accuracy using recall score: \",resultRS)\n",
    "    print(\"Test acuracy using F1 score: \",resultf1)\n",
    "    cnf_matrix = confusion_matrix(y_test,y_pred,labels=[1,0])\n",
    "    plt.figure()\n",
    "    plot_confusion_matrix(cnf_matrix,labels=['0','1'])"
   ]
  },
  {
   "cell_type": "markdown",
   "id": "5b22ef762db81708",
   "metadata": {
    "collapsed": false
   },
   "source": [
    "Lets start with random forest classifier"
   ]
  },
  {
   "cell_type": "code",
   "execution_count": 30,
   "id": "6e53b0beab22925c",
   "metadata": {
    "ExecuteTime": {
     "end_time": "2023-09-15T13:37:08.040023811Z",
     "start_time": "2023-09-15T13:36:54.319421973Z"
    },
    "collapsed": false
   },
   "outputs": [
    {
     "name": "stdout",
     "output_type": "stream",
     "text": [
      "Accuracy score for Each fold using accuracy score:  [0.9976565115500502, 1.0, 0.9996652159357214, 1.0, 0.9996651038178165]\n",
      "Mean Accuracy: 0.9993973662607176\n",
      "Standard Deviation:  0.0008832142230486109\n",
      "Accuracy score for Each fold using precision score:  [0.9983079526226735, 1.0, 1.0, 1.0, 0.9992181391712275]\n",
      "Mean Accuracy: 0.9995052183587803\n",
      "Standard Deviation:  0.0006708630739943291\n",
      "Accuracy score for Each fold using recall score:  [0.9957805907172996, 1.0, 0.999198717948718, 1.0, 1.0]\n",
      "Mean Accuracy: 0.9989958617332035\n",
      "Standard Deviation:  0.0016373148338923453\n",
      "Accuracy score for Each fold using F1 score:  [0.9970426700464724, 1.0, 0.9995991983967936, 1.0, 0.999608916699257]\n",
      "Mean Accuracy: 0.9992501570285046\n",
      "Standard Deviation:  0.001117861003683296\n"
     ]
    },
    {
     "data": {
      "text/plain": [
       "<Figure size 640x480 with 0 Axes>"
      ]
     },
     "metadata": {},
     "output_type": "display_data"
    },
    {
     "data": {
      "image/png": "[encoded data removed]",
      "text/plain": [
       "<Figure size 800x600 with 2 Axes>"
      ]
     },
     "metadata": {},
     "output_type": "display_data"
    }
   ],
   "source": [
    "from sklearn.ensemble import RandomForestClassifier\n",
    "model = RandomForestClassifier(max_depth=5,min_samples_leaf=5,random_state=5)\n",
    "train_model(X=X,y=y,model=model,folds=5)\n"
   ]
  },
  {
   "cell_type": "markdown",
   "id": "ee295feaba6fff38",
   "metadata": {
    "collapsed": false
   },
   "source": [
    "It seems like we have an imbalance in our dataset.\n",
    "Our model predicts and has a 99% accuracy which is unrealistic.\n",
    "We are required to balance our dataset using SMOTEEN"
   ]
  },
  {
   "cell_type": "code",
   "execution_count": 31,
   "id": "b45649e103cdc2c",
   "metadata": {
    "ExecuteTime": {
     "end_time": "2023-09-15T13:37:14.786399863Z",
     "start_time": "2023-09-15T13:37:08.057898768Z"
    },
    "collapsed": false
   },
   "outputs": [
    {
     "data": {
      "text/plain": [
       "<AxesSubplot: >"
      ]
     },
     "execution_count": 31,
     "metadata": {},
     "output_type": "execute_result"
    },
    {
     "data": {
      "image/png": "[encoded data removed]",
      "text/plain": [
       "<Figure size 640x480 with 1 Axes>"
      ]
     },
     "metadata": {},
     "output_type": "display_data"
    }
   ],
   "source": [
    "from imblearn.combine import SMOTEENN\n",
    "\n",
    "smoteenn_sample = SMOTEENN(random_state=100,sampling_strategy='auto')\n",
    "X_res,y_res = smoteenn_sample.fit_resample(X,y)\n",
    "y_res.hist()"
   ]
  },
  {
   "cell_type": "markdown",
   "id": "5a8e26ddc5fc16ed",
   "metadata": {
    "collapsed": false
   },
   "source": [
    "SMOTEEN is a combination of SMOTE(Synthetic Minority Over-sampling Technique) ,which is an oversampling technique, and ENN(Edited Nearest Neighbour) which is an undersampling technique.\n",
    "It gives an effective balance between the two datasets"
   ]
  },
  {
   "cell_type": "code",
   "execution_count": 35,
   "id": "646a63db573abc4",
   "metadata": {
    "ExecuteTime": {
     "end_time": "2023-09-15T14:06:59.381423396Z",
     "start_time": "2023-09-15T14:01:40.817452692Z"
    },
    "collapsed": false
   },
   "outputs": [
    {
     "name": "stdout",
     "output_type": "stream",
     "text": [
      "Accuracy score for Each fold using accuracy score:  [1.0, 0.9979402677651905, 1.0, 0.9989701338825953, 0.9989690721649485]\n",
      "Mean Accuracy: 0.9991758947625466\n",
      "Standard Deviation:  0.0007707380992252894\n",
      "Accuracy score for Each fold using precision score:  [1.0, 0.997289972899729, 1.0, 1.0, 1.0]\n",
      "Mean Accuracy: 0.9994579945799458\n",
      "Standard Deviation:  0.001084010840108407\n",
      "Accuracy score for Each fold using recall score:  [1.0, 0.997289972899729, 1.0, 0.9972067039106145, 0.9971590909090909]\n",
      "Mean Accuracy: 0.9983311535438869\n",
      "Standard Deviation:  0.0013632514015824728\n",
      "Accuracy score for Each fold using F1 score:  [1.0, 0.997289972899729, 1.0, 0.9986013986013986, 0.9985775248933144]\n",
      "Mean Accuracy: 0.9988937792788886\n",
      "Standard Deviation:  0.0010203084598718111\n"
     ]
    },
    {
     "data": {
      "text/plain": [
       "<Figure size 640x480 with 0 Axes>"
      ]
     },
     "metadata": {},
     "output_type": "display_data"
    },
    {
     "data": {
      "image/png": "[encoded data removed]",
      "text/plain": [
       "<Figure size 800x600 with 2 Axes>"
      ]
     },
     "metadata": {},
     "output_type": "display_data"
    }
   ],
   "source": [
    "model = RandomForestClassifier(max_depth=5,min_samples_leaf=5,random_state=5)\n",
    "train_model(X=X_res,y=y_res,model=model,folds=5)"
   ]
  },
  {
   "cell_type": "markdown",
   "id": "6a94543a23cccc81",
   "metadata": {
    "collapsed": false
   },
   "source": [
    "Lets use another classification algorithms"
   ]
  },
  {
   "cell_type": "code",
   "execution_count": 33,
   "id": "2c90cf3485b86a47",
   "metadata": {
    "ExecuteTime": {
     "end_time": "2023-09-15T13:55:04.329963154Z",
     "start_time": "2023-09-15T13:52:51.479897854Z"
    },
    "collapsed": false
   },
   "outputs": [
    {
     "name": "stdout",
     "output_type": "stream",
     "text": [
      "Accuracy score for Each fold using accuracy score:  [0.9629629629629629, 0.9506172839506173, 0.9753086419753086, 0.9567901234567902, 0.9814814814814815, 0.9691358024691358, 0.9691358024691358, 0.9814814814814815, 0.9691358024691358, 0.9938271604938271, 0.9814814814814815, 0.9691358024691358, 0.9691358024691358, 0.9876543209876543, 0.9753086419753086, 0.9753086419753086, 0.9814814814814815, 0.9691358024691358, 0.9506172839506173, 0.9814814814814815, 0.9876543209876543, 0.9691358024691358, 0.9876543209876543, 0.9753086419753086, 0.9627329192546584, 0.9627329192546584, 0.9627329192546584, 0.9627329192546584, 0.9627329192546584, 0.9751552795031055]\n",
      "Mean Accuracy: 0.9719730082048924\n",
      "Standard Deviation:  0.010691245422697518\n",
      "Accuracy score for Each fold using precision score:  [0.9692307692307692, 0.9538461538461539, 0.9516129032258065, 0.9508196721311475, 1.0, 0.9836065573770492, 0.9428571428571428, 0.9836065573770492, 0.9830508474576272, 0.9848484848484849, 0.9827586206896551, 0.9629629629629629, 1.0, 0.967741935483871, 0.9833333333333333, 0.984375, 0.9701492537313433, 0.9384615384615385, 0.9285714285714286, 0.9807692307692307, 0.9857142857142858, 0.9615384615384616, 0.9846153846153847, 1.0, 0.9607843137254902, 0.9615384615384616, 0.967741935483871, 0.967741935483871, 0.9827586206896551, 0.9811320754716981]\n",
      "Mean Accuracy: 0.9718722622205257\n",
      "Standard Deviation:  0.017771284196225593\n",
      "Accuracy score for Each fold using recall score:  [0.9402985074626866, 0.9253731343283582, 0.9833333333333333, 0.9354838709677419, 0.9552238805970149, 0.9375, 0.9850746268656716, 0.967741935483871, 0.9354838709677419, 1.0, 0.9661016949152542, 0.9454545454545454, 0.9206349206349206, 1.0, 0.9516129032258065, 0.9545454545454546, 0.9848484848484849, 0.9838709677419355, 0.9558823529411765, 0.9622641509433962, 0.9857142857142858, 0.9433962264150944, 0.9846153846153847, 0.9166666666666666, 0.9245283018867925, 0.9259259259259259, 0.9375, 0.9375, 0.9193548387096774, 0.9454545454545454]\n",
      "Mean Accuracy: 0.9537128270215255\n",
      "Standard Deviation:  0.02475844588151036\n",
      "Accuracy score for Each fold using F1 score:  [0.9545454545454547, 0.9393939393939394, 0.9672131147540983, 0.943089430894309, 0.9770992366412213, 0.96, 0.9635036496350364, 0.975609756097561, 0.9586776859504132, 0.9923664122137404, 0.9743589743589743, 0.9541284403669724, 0.9586776859504132, 0.9836065573770492, 0.9672131147540983, 0.9692307692307692, 0.9774436090225564, 0.9606299212598426, 0.9420289855072465, 0.9714285714285713, 0.9857142857142858, 0.9523809523809524, 0.9846153846153847, 0.9565217391304348, 0.9423076923076923, 0.9433962264150944, 0.9523809523809523, 0.9523809523809523, 0.95, 0.9629629629629629]\n",
      "Mean Accuracy: 0.9624302152556993\n",
      "Standard Deviation:  0.01421133835774917\n"
     ]
    },
    {
     "data": {
      "text/plain": [
       "<Figure size 640x480 with 0 Axes>"
      ]
     },
     "metadata": {},
     "output_type": "display_data"
    },
    {
     "data": {
      "image/png": "[encoded data removed]",
      "text/plain": [
       "<Figure size 800x600 with 2 Axes>"
      ]
     },
     "metadata": {},
     "output_type": "display_data"
    }
   ],
   "source": [
    "from sklearn.ensemble import ExtraTreesClassifier\n",
    "model = ExtraTreesClassifier(n_estimators=1000,random_state=40,min_samples_leaf=10,max_depth=100)\n",
    "train_model(X=X_res,y=y_res,model=model,folds=30)"
   ]
  },
  {
   "cell_type": "markdown",
   "metadata": {},
   "source": [
    "By balancing our dataset using SMOTEENN, we can now get a more accurate model with 96% accuracy"
   ]
  }
 ],
 "metadata": {
  "kernelspec": {
   "display_name": "Python 3",
   "language": "python",
   "name": "python3"
  },
  "language_info": {
   "codemirror_mode": {
    "name": "ipython",
    "version": 3
   },
   "file_extension": ".py",
   "mimetype": "text/x-python",
   "name": "python",
   "nbconvert_exporter": "python",
   "pygments_lexer": "ipython3",
   "version": "3.10.9"
  }
 },
 "nbformat": 4,
 "nbformat_minor": 5
}
